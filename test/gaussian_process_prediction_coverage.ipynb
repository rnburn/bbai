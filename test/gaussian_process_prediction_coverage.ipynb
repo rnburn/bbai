{
 "cells": [
  {
   "cell_type": "markdown",
   "metadata": {},
   "source": [
    "# Prediction Frequence Coverage Simulation\n",
    "Run a simulation to compare prediction performance of a Bayesian Gaussian process model with reference prior to a Gaussian process model using a maximum likelihood approach."
   ]
  },
  {
   "cell_type": "code",
   "execution_count": 1,
   "metadata": {},
   "outputs": [],
   "source": [
    "import numpy as np\n",
    "import scipy\n",
    "from bbai.gp import BayesianGaussianProcessRegression, RbfCovarianceFunction\n",
    "import matplotlib.pyplot as plt\n",
    "import seaborn\n",
    "from sklearn.gaussian_process import GaussianProcessRegressor\n",
    "from sklearn.gaussian_process.kernels import RBF, WhiteKernel\n",
    "\n",
    "np.random.seed(0)"
   ]
  },
  {
   "cell_type": "markdown",
   "metadata": {},
   "source": [
    "## Generate Data Set"
   ]
  },
  {
   "cell_type": "code",
   "execution_count": 2,
   "metadata": {},
   "outputs": [],
   "source": [
    "def make_location_matrix(num_train, num_test):\n",
    "    res = np.zeros((num_train + num_test, 1))\n",
    "    step = 1.0 / (num_train - 1)\n",
    "    for i in range(num_train):\n",
    "        res[i, 0] = i * step\n",
    "    for i in range(num_test):\n",
    "        res[num_train + i, 0] = np.random.uniform(0, 1)\n",
    "    return res\n",
    "\n",
    "def make_covariance_matrix(Z, params):\n",
    "    sigma2, theta, eta = params\n",
    "    N = Z.shape[0]\n",
    "    res = np.zeros((N, N))\n",
    "    for i in range(N):\n",
    "        xi = Z[i]\n",
    "        for j in range(N):\n",
    "            xj = Z[j]\n",
    "            d2 = np.linalg.norm(xi - xj)**2\n",
    "            res[i, j] = np.exp(-0.5 * d2/theta**2)\n",
    "        res[i, i] += eta\n",
    "    return res\n",
    "\n",
    "def make_target_vector(K):\n",
    "    return np.random.multivariate_normal(np.zeros(K.shape[0]), K)"
   ]
  },
  {
   "cell_type": "markdown",
   "metadata": {},
   "source": [
    "## Set up Simlation"
   ]
  },
  {
   "cell_type": "code",
   "execution_count": 3,
   "metadata": {},
   "outputs": [],
   "source": [
    "low = 0.025\n",
    "high = 0.975\n",
    "\n",
    "def run_ml_model(S_train, y_train, S_test, y_test, params0):\n",
    "    sigma2, theta, eta = params0\n",
    "    kernel = sigma2 * RBF(length_scale=theta) + WhiteKernel(noise_level=sigma2*eta)\n",
    "    model = GaussianProcessRegressor(kernel=kernel, n_restarts_optimizer=25)\n",
    "    model.fit(S_train, y_train)\n",
    "    pred, pred_std = model.predict(S_test, return_std = True)\n",
    "    cnt = 0\n",
    "    for i, yi in enumerate(y_test):\n",
    "        pdf = scipy.stats.norm(loc=pred[i], scale=pred_std[i])\n",
    "        t = pdf.cdf(yi)\n",
    "        is_included = t > low and t < high\n",
    "        if is_included:\n",
    "            cnt += 1\n",
    "    return cnt\n",
    "\n",
    "def run_bay_model(S_train, y_train, S_test, y_test, params0):\n",
    "    model = BayesianGaussianProcessRegression(kernel=RbfCovarianceFunction())\n",
    "    model.fit(S_train, y_train)\n",
    "    _, pdfs = model.predict(S_test, with_pdf = True)\n",
    "    cnt = 0\n",
    "    for i, yi in enumerate(y_test):\n",
    "        pdf = pdfs[i]\n",
    "        t = pdf.cdf(yi)\n",
    "        is_included = t > low and t < high\n",
    "        if is_included:\n",
    "            cnt += 1\n",
    "    return cnt"
   ]
  },
  {
   "cell_type": "code",
   "execution_count": 4,
   "metadata": {},
   "outputs": [],
   "source": [
    "def run_simulation(runner, params):\n",
    "    num_train = 20\n",
    "    num_test = 20   \n",
    "    N = 100\n",
    "    cnt = 0\n",
    "    for i in range(N):\n",
    "        S = make_location_matrix(num_train, num_test)\n",
    "        K = make_covariance_matrix(S, params)\n",
    "        y = make_target_vector(K) \n",
    "        cnt_i = runner(\n",
    "            S[:num_train], y[:num_train], \n",
    "            S[num_train:], y[num_train:],\n",
    "            params)\n",
    "        cnt += cnt_i\n",
    "    normalizer = num_test * N\n",
    "    return cnt / normalizer"
   ]
  },
  {
   "cell_type": "markdown",
   "metadata": {},
   "source": [
    "## Run Simulation"
   ]
  },
  {
   "cell_type": "code",
   "execution_count": 5,
   "metadata": {},
   "outputs": [],
   "source": [
    "sigma2 = 1\n",
    "thetas = [0.1, 0.2, 0.5]\n",
    "etas = [0.001, 0.01, 0.1, 0.2]\n",
    "px = []\n",
    "for theta in thetas:\n",
    "    for eta in etas:\n",
    "        px.append((sigma2, theta, eta))"
   ]
  },
  {
   "cell_type": "code",
   "execution_count": 6,
   "metadata": {},
   "outputs": [
    {
     "name": "stdout",
     "output_type": "stream",
     "text": [
      "(1, 0.1, 0.001) 0.8115\n",
      "(1, 0.1, 0.01) 0.8375\n",
      "(1, 0.1, 0.1) 0.8465\n",
      "(1, 0.1, 0.2) 0.8525\n"
     ]
    },
    {
     "name": "stderr",
     "output_type": "stream",
     "text": [
      "/home/rnburn/.cache/bazel/_bazel_rnburn/5cc66d25042c64a0db4adf3af688e930/execroot/com_github_rnburn_strix/bazel-out/k8-opt/bin/example/gaussian_process/prediction_coverage_compare.runfiles/strix_third_party_python_deps/pypi__scikit_learn/sklearn/gaussian_process/_gpr.py:504: ConvergenceWarning: lbfgs failed to converge (status=2):\n",
      "ABNORMAL_TERMINATION_IN_LNSRCH.\n",
      "\n",
      "Increase the number of iterations (max_iter) or scale the data as shown in:\n",
      "    https://scikit-learn.org/stable/modules/preprocessing.html\n",
      "  _check_optimize_result(\"lbfgs\", opt_res)\n"
     ]
    },
    {
     "name": "stdout",
     "output_type": "stream",
     "text": [
      "(1, 0.2, 0.001) 0.9055\n",
      "(1, 0.2, 0.01) 0.912\n",
      "(1, 0.2, 0.1) 0.8925\n",
      "(1, 0.2, 0.2) 0.8925\n",
      "(1, 0.5, 0.001) 0.9335\n",
      "(1, 0.5, 0.01) 0.9185\n",
      "(1, 0.5, 0.1) 0.9195\n",
      "(1, 0.5, 0.2) 0.903\n"
     ]
    }
   ],
   "source": [
    "np.random.seed(0)\n",
    "for p in px:\n",
    "    cov = run_simulation(run_ml_model, p)\n",
    "    print(p, cov)"
   ]
  },
  {
   "cell_type": "code",
   "execution_count": 7,
   "metadata": {},
   "outputs": [
    {
     "name": "stdout",
     "output_type": "stream",
     "text": [
      "(1, 0.1, 0.001) 0.9185\n",
      "(1, 0.1, 0.01) 0.9385\n",
      "(1, 0.1, 0.1) 0.929\n",
      "(1, 0.1, 0.2) 0.936\n",
      "(1, 0.2, 0.001) 0.9505\n",
      "(1, 0.2, 0.01) 0.953\n",
      "(1, 0.2, 0.1) 0.9425\n",
      "(1, 0.2, 0.2) 0.9365\n",
      "(1, 0.5, 0.001) 0.942\n",
      "(1, 0.5, 0.01) 0.944\n",
      "(1, 0.5, 0.1) 0.9315\n",
      "(1, 0.5, 0.2) 0.938\n"
     ]
    }
   ],
   "source": [
    "np.random.seed(0)\n",
    "for p in px:\n",
    "    cov = run_simulation(run_bay_model, p)\n",
    "    print(p, cov)"
   ]
  },
  {
   "cell_type": "code",
   "execution_count": null,
   "metadata": {},
   "outputs": [],
   "source": []
  }
 ],
 "metadata": {
  "kernelspec": {
   "display_name": "Python 3 (ipykernel)",
   "language": "python",
   "name": "python3"
  },
  "language_info": {
   "codemirror_mode": {
    "name": "ipython",
    "version": 3
   },
   "file_extension": ".py",
   "mimetype": "text/x-python",
   "name": "python",
   "nbconvert_exporter": "python",
   "pygments_lexer": "ipython3",
   "version": "3.8.10"
  }
 },
 "nbformat": 4,
 "nbformat_minor": 4
}
