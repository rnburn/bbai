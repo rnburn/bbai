{
 "cells": [
  {
   "cell_type": "markdown",
   "id": "d9046374-a31c-46b5-8857-2a4e1d6bd27b",
   "metadata": {},
   "source": [
    "Demonstrate an application of approximation with Chebyshev polynomials.\n",
    "\n",
    "We'll look to approximate the function\n",
    "$$\n",
    "f(t) = \\frac{1}{2} - \\frac{1}{\\pi} \\mathbb{E}\\left\\{\n",
    "\\frac{\\bar{x} - t}{s_x}\n",
    "\\right\\}\n",
    "$$\n",
    "where $\\bar{x} = (X_1 + X_2) / 2$, $s_x = (X_1^2 + X_2^2)/2 - \\bar{x}^2$, and $X_1$, $X_2$ are independent identitically distributed normal random variables with mean $\\mu_{ML}$ and variance $\\sigma_{ML}^2$.\n",
    "\n",
    "For context, this function comes up when computing default Bayes factors for hypothesis testing of the mean of normally distributed data with unknown variance. See the blog post [Introduction to Objective Bayesian Hypothesis Testing](https://medium.com/towards-data-science/introduction-to-objective-bayesian-hypothesis-testing-06c9e98eb90b) and the reference [1] for more details.\n",
    "\n",
    "1: Berger, J. and J. Mortera (1999). Default bayes factors for nonnested hypothesis testing. Journal of the American Statistical Association 94 (446), 542–554. Postscript for paper: https://www2.stat.duke.edu/~berger/papers/mortera.ps"
   ]
  },
  {
   "cell_type": "code",
   "execution_count": 1,
   "id": "8f10557d-e9ae-4aaf-9deb-47b07e09bf5f",
   "metadata": {},
   "outputs": [],
   "source": [
    "import numpy as np\n",
    "\n",
    "# These are the coefficient of the approximation when represented as \n",
    "# a series of Chebyshev polynomials of the second kind\n",
    "coefs = [\n",
    "    0.77143906574069909,     0.85314572098378538,     0.024348685879360281,\n",
    "    -0.080216391111436719,   -0.016243633646524293,   0.014244249784927322,\n",
    "    0.0083546074842089004,   -0.0013585115546325592,  -0.0032124111873301194,\n",
    "    -0.00091825774110923682, 0.0007309343106888075,   0.00071403856022216007,\n",
    "    9.4913853419609061e-05,  -0.00023489116699729724, -0.00017729416753392774,\n",
    "    -8.6319144348730995e-06, 7.1368665041116644e-05,  5.0436256633845485e-05,\n",
    "    1.8715564507905244e-06,  -2.1699237167998914e-05, -1.6200449174481386e-05,\n",
    "]"
   ]
  },
  {
   "cell_type": "code",
   "execution_count": 2,
   "id": "5e1598d6-1ff1-4964-b331-2e186e954c44",
   "metadata": {},
   "outputs": [],
   "source": [
    "def g(s):\n",
    "    # Invert the mapping to go from the domain [0, ∞] -> [-1, 1]\n",
    "    t = s / (1 + s)\n",
    "    t = 2 * t - 1\n",
    "    return np.polynomial.chebyshev.chebval(t, coefs)"
   ]
  },
  {
   "cell_type": "code",
   "execution_count": 3,
   "id": "89d2ac12-6d97-434a-af00-e974c3db1a2e",
   "metadata": {},
   "outputs": [],
   "source": [
    "# Approximate f using Chebyshev polynomials\n",
    "def f(mu, sigma, t):\n",
    "    t = np.sqrt(2) * (mu - t) / sigma\n",
    "    mult = 1.0\n",
    "    if t < 0:\n",
    "        mult = -1.0\n",
    "        t = -t\n",
    "    return 0.5 - mult * g(t) / np.pi"
   ]
  },
  {
   "cell_type": "code",
   "execution_count": 4,
   "id": "7a89363e-f4de-40d1-a58e-4832f8888eac",
   "metadata": {},
   "outputs": [],
   "source": [
    "# Approximate f using a brute force simulation approach\n",
    "N = 1000000\n",
    "def f_sim(mu, sigma, t):\n",
    "    vals = np.random.normal(mu, sigma, size=(N, 2))\n",
    "    X1 = vals[:, 0]\n",
    "    X2 = vals[:, 1]\n",
    "    xbar = (X1 + X2) / 2.0\n",
    "    sx = np.sqrt(((X1 - xbar)**2 + (X2 - xbar)**2) / 2.0)\n",
    "    vals = 0.5 - np.arctan((xbar - t) / sx) / np.pi\n",
    "    return np.mean(vals)"
   ]
  },
  {
   "cell_type": "code",
   "execution_count": 5,
   "id": "d5c97e15-775c-40ea-ba52-d298bf27bac0",
   "metadata": {},
   "outputs": [
    {
     "name": "stdout",
     "output_type": "stream",
     "text": [
      "0.0 0.47059206926744995 0.4705617410005234 0.0006829181799177236\n",
      "0.01 0.47297735696592846 0.47284440543778317 0.00044800674755964237\n",
      "0.1 0.49449429024483676 0.4947273411923894 0.0001393914288991927\n",
      "0.2 0.518426675093887 0.5184967680183266 2.2982920448911075e-06\n",
      "0.3 0.5422530672885648 0.5421840161788148 0.0008338542554252333\n",
      "5 0.943798414491211 0.9438468766277546 7.809732402546117e-05\n",
      "10 0.9726189450498345 0.9726397857047364 4.339034701734454e-05\n",
      "100 0.9973033311969053 0.9973052128447453 1.2957899605273032e-06\n"
     ]
    }
   ],
   "source": [
    "# Compare the approximations against each other\n",
    "mu_ml = 0.123\n",
    "std_ml = 1.5\n",
    "np.random.seed(0)\n",
    "for t in [0.0, 0.01, 0.1, 0.2, 0.3, 5, 10, 100]:\n",
    "    ft = f(mu_ml, std_ml, t)\n",
    "    fpt = f_sim(mu_ml, std_ml, t)\n",
    "    rerr = np.abs((ft - fpt) / fpt)\n",
    "    print(t, f(mu_ml, std_ml, t), f_sim(mu_ml, std_ml,t), rerr)"
   ]
  },
  {
   "cell_type": "code",
   "execution_count": null,
   "id": "0606fcd0-936f-489a-9835-1ceafc517437",
   "metadata": {},
   "outputs": [],
   "source": []
  }
 ],
 "metadata": {
  "kernelspec": {
   "display_name": "Python 3 (ipykernel)",
   "language": "python",
   "name": "python3"
  },
  "language_info": {
   "codemirror_mode": {
    "name": "ipython",
    "version": 3
   },
   "file_extension": ".py",
   "mimetype": "text/x-python",
   "name": "python",
   "nbconvert_exporter": "python",
   "pygments_lexer": "ipython3",
   "version": "3.11.9"
  }
 },
 "nbformat": 4,
 "nbformat_minor": 5
}
