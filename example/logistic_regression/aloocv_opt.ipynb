{
 "cells": [
  {
   "cell_type": "markdown",
   "metadata": {},
   "source": [
    "# Approximate Leave-One-Out Cross-Validation\n",
    "*This notebook finds hyperparameters that optimize the approximate leave-one-out cross-validation and compares approximate leave-one-out CV to leave-one-out CV.*"
   ]
  },
  {
   "cell_type": "markdown",
   "metadata": {},
   "source": [
    "## Import Dependencies"
   ]
  },
  {
   "cell_type": "code",
   "execution_count": 1,
   "metadata": {},
   "outputs": [],
   "source": [
    "import numpy as np\n",
    "import scipy\n",
    "import peak_engines\n",
    "from sklearn.datasets import load_breast_cancer\n",
    "from sklearn.preprocessing import StandardScaler\n",
    "from sklearn.linear_model import LogisticRegression\n",
    "from sklearn.model_selection import train_test_split\n",
    "from sklearn.model_selection import LeaveOneOut\n",
    "from sklearn.linear_model import LinearRegression\n",
    "import matplotlib.pyplot as plt\n",
    "from scipy.special import expit"
   ]
  },
  {
   "cell_type": "markdown",
   "metadata": {},
   "source": [
    "## Prepare Dataset"
   ]
  },
  {
   "cell_type": "code",
   "execution_count": 2,
   "metadata": {},
   "outputs": [],
   "source": [
    "X, y = load_breast_cancer(return_X_y=True)\n",
    "X = StandardScaler().fit_transform(X)"
   ]
  },
  {
   "cell_type": "markdown",
   "metadata": {},
   "source": [
    "## Compute LOOCV by brute force"
   ]
  },
  {
   "cell_type": "code",
   "execution_count": 3,
   "metadata": {},
   "outputs": [],
   "source": [
    "def compute_loocv(X, y, C):\n",
    "    model = LogisticRegression(solver='lbfgs', C=C)\n",
    "    cv = LeaveOneOut()\n",
    "    loo_likelihoods = []\n",
    "    for train_indexes, test_indexes in cv.split(X):\n",
    "        X_train, X_test = X[train_indexes], X[test_indexes]\n",
    "        y_train, y_test = y[train_indexes], y[test_indexes]\n",
    "        model.fit(X_train, y_train)\n",
    "        pred = model.predict_proba(X_test)[0]\n",
    "        loo_likelihoods.append(pred[y_test[0]])\n",
    "    return sum(np.log(loo_likelihoods))"
   ]
  },
  {
   "cell_type": "markdown",
   "metadata": {},
   "source": [
    "## Compute approximate LOOCV\n",
    "At a \n",
    "high level, this is how the approximate leave-one-out CV works: For given hyperparameters `C`, we\n",
    "1. Find the parameters `b` that optimize logistic regression for the given `C`.\n",
    "2. For each data index `i`, we compute the hessian `H_{-i}` and gradient `g_{-i}` of the \n",
    "log-likelihood with the ith data entry removed. (We can reuse the hessian computed from (1) to do this\n",
    "with a minimal amount of work.)\n",
    "3. We apply the [Matrix Inversion Lemma](https://en.wikipedia.org/wiki/Woodbury_matrix_identity) to\n",
    "efficiently compute the inverse `H_{-i}^{-1}`.\n",
    "4. We use `H_{-i}^{-1}` and `g_{-i}` to take a single step of [Newton's method](https://en.wikipedia.org/wiki/Newton%27s_method_in_optimization) to approximate the logistic regression coefficients with the ith entry removed `b_{-i}`.\n",
    "5. And finally, we used the `b_{-i}`'s to approximate the out-of-sample predictions and estimate the leave-one-out cross-validation."
   ]
  },
  {
   "cell_type": "code",
   "execution_count": 4,
   "metadata": {},
   "outputs": [],
   "source": [
    "def fit_logistic_regression(X, y, C):\n",
    "    model = LogisticRegression(solver='lbfgs', C=C)\n",
    "    model.fit(X, y)\n",
    "    return np.array(list(model.coef_[0]) + list(model.intercept_))\n",
    "\n",
    "def compute_hessian(p_vector, X, alpha):\n",
    "    n, k = X.shape\n",
    "    a_vector = np.sqrt((1 - p_vector)*p_vector)\n",
    "    R = scipy.linalg.qr(a_vector.reshape((n, 1))*X, mode='r')[0]\n",
    "    H = np.dot(R.T, R)\n",
    "    for i in range(k-1):\n",
    "        H[i, i] += alpha\n",
    "    return H\n",
    "\n",
    "def compute_aloocv(X, y, C):\n",
    "    alpha = 1.0 / C\n",
    "    w = fit_logistic_regression(X, y, C)\n",
    "    X = np.hstack((X, np.ones((X.shape[0], 1))))\n",
    "    n = X.shape[0]\n",
    "    y = 2*y - 1\n",
    "    u_vector = np.dot(X, w)\n",
    "    p_vector = expit(u_vector*y)\n",
    "    H = compute_hessian(p_vector, X, alpha)\n",
    "    L = np.linalg.cholesky(H)\n",
    "    T = scipy.linalg.solve_triangular(L, X.T, lower=True)\n",
    "    h_vector = np.array([np.dot(ti, ti) for pi, ti in zip(p_vector, T.T)])\n",
    "    loo_u_vector = u_vector - y * (1 - p_vector)*h_vector / (1 - p_vector*(1 - p_vector)*h_vector)\n",
    "    loo_likelihoods = expit(y*loo_u_vector)\n",
    "    return sum(np.log(loo_likelihoods))"
   ]
  },
  {
   "cell_type": "markdown",
   "metadata": {},
   "source": [
    "## Find the value of C that optimizes ALOOCV\n",
    "We use the **peak_engines** to find the optimal C. It differentiates ALOOCV with respect to C and iterates an optimizer to find the best C."
   ]
  },
  {
   "cell_type": "code",
   "execution_count": 5,
   "metadata": {},
   "outputs": [
    {
     "name": "stdout",
     "output_type": "stream",
     "text": [
      "0.6647487922434979\n"
     ]
    }
   ],
   "source": [
    "C_opt = peak_engines.LogisticRegressionModel().fit(X, y).C_[0]\n",
    "print(C_opt)"
   ]
  },
  {
   "cell_type": "markdown",
   "metadata": {},
   "source": [
    "## How accurate is the approximate leave-one-out CV?\n",
    "We compute the leave-one-out CV by brute force and compare to the approximate leave-one-out CV."
   ]
  },
  {
   "cell_type": "code",
   "execution_count": 6,
   "metadata": {},
   "outputs": [],
   "source": [
    "Cs = np.arange(0.1, 2.0, 0.1)\n",
    "loocvs = [compute_loocv(X, y, C) for C in Cs]\n",
    "aloocvs = [compute_aloocv(X, y, C) for C in Cs]"
   ]
  },
  {
   "cell_type": "code",
   "execution_count": 7,
   "metadata": {},
   "outputs": [
    {
     "data": {
      "text/plain": [
       "<matplotlib.legend.Legend at 0x7feb30112e90>"
      ]
     },
     "execution_count": 7,
     "metadata": {},
     "output_type": "execute_result"
    },
    {
     "data": {
      "image/png": "[encoded data removed]",
      "text/plain": [
       "<Figure size 432x288 with 1 Axes>"
      ]
     },
     "metadata": {
      "needs_background": "light"
     },
     "output_type": "display_data"
    }
   ],
   "source": [
    "fig, ax = plt.subplots()\n",
    "ax.plot(Cs, loocvs, label='Real LOOCV', marker='o')\n",
    "ax.plot(Cs, aloocvs, label='Approx LOOCV', marker='o')\n",
    "ax.axvline(C_opt, color='tab:green', label='C_opt')\n",
    "ax.set_xlabel('C')\n",
    "ax.set_ylabel('Log-Likelihood')\n",
    "ax.set_title(\"Breast Cancer Dataset\")\n",
    "ax.legend()"
   ]
  },
  {
   "cell_type": "code",
   "execution_count": 8,
   "metadata": {},
   "outputs": [
    {
     "name": "stdout",
     "output_type": "stream",
     "text": [
      "-42.59237360703451\n",
      "-42.5915566398912\n",
      "-42.59166113176998\n"
     ]
    }
   ],
   "source": [
    "delta = 0.001\n",
    "print(compute_aloocv(X, y, C_opt-delta))\n",
    "print(compute_aloocv(X, y, C_opt))\n",
    "print(compute_aloocv(X, y, C_opt+delta))"
   ]
  },
  {
   "cell_type": "code",
   "execution_count": null,
   "metadata": {},
   "outputs": [],
   "source": []
  }
 ],
 "metadata": {
  "kernelspec": {
   "display_name": "Python 3",
   "language": "python",
   "name": "python3"
  },
  "language_info": {
   "codemirror_mode": {
    "name": "ipython",
    "version": 3
   },
   "file_extension": ".py",
   "mimetype": "text/x-python",
   "name": "python",
   "nbconvert_exporter": "python",
   "pygments_lexer": "ipython3",
   "version": "3.7.5"
  }
 },
 "nbformat": 4,
 "nbformat_minor": 4
}
