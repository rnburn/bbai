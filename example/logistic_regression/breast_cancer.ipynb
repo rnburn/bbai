{
 "cells": [
  {
   "cell_type": "markdown",
   "metadata": {},
   "source": [
    "# Breast Cancer Cross-Validation\n",
    "*This notebook compares the performance of different logistic regression models on a 10-fold cross-validation of the Breast Cancer dataset.*"
   ]
  },
  {
   "cell_type": "markdown",
   "metadata": {},
   "source": [
    "## Import Dependencies"
   ]
  },
  {
   "cell_type": "code",
   "execution_count": 1,
   "metadata": {},
   "outputs": [],
   "source": [
    "import numpy as np\n",
    "import pandas as pd\n",
    "import peak_engines\n",
    "import sklearn\n",
    "from collections import defaultdict\n",
    "from sklearn.datasets import load_breast_cancer\n",
    "from sklearn.preprocessing import StandardScaler\n",
    "from sklearn.linear_model import LogisticRegressionCV\n",
    "from sklearn.model_selection import KFold\n",
    "import time\n",
    "import warnings\n",
    "warnings.simplefilter('ignore')"
   ]
  },
  {
   "cell_type": "markdown",
   "metadata": {},
   "source": [
    "## Prepare Dataset"
   ]
  },
  {
   "cell_type": "code",
   "execution_count": 2,
   "metadata": {},
   "outputs": [],
   "source": [
    "X, y = load_breast_cancer(return_X_y=True)"
   ]
  },
  {
   "cell_type": "markdown",
   "metadata": {},
   "source": [
    "## Compute Cross-Validation scores"
   ]
  },
  {
   "cell_type": "code",
   "execution_count": 3,
   "metadata": {},
   "outputs": [],
   "source": [
    "def compute_score(cv, model):\n",
    "    t1 = time.time()\n",
    "    results = []\n",
    "    for train_indexes, test_indexes in list(cv.split(X, y)):\n",
    "        X_train, X_test = X[train_indexes], X[test_indexes]\n",
    "        y_train, y_test = y[train_indexes], y[test_indexes]\n",
    "        scaler = StandardScaler()\n",
    "        X_train = scaler.fit_transform(X_train)\n",
    "        X_test = scaler.transform(X_test)\n",
    "        model.fit(X_train, y_train)\n",
    "        y_pred = model.predict_proba(X_test)\n",
    "        results.append(-sklearn.metrics.log_loss(y_test, y_pred))\n",
    "    delta = time.time() - t1\n",
    "    return np.mean(results), delta"
   ]
  },
  {
   "cell_type": "markdown",
   "metadata": {},
   "source": [
    "## Compute Performance Matrix"
   ]
  },
  {
   "cell_type": "code",
   "execution_count": 4,
   "metadata": {},
   "outputs": [],
   "source": [
    "def compute_performance_matrix(models, cv):\n",
    "    names = []\n",
    "    matrix = defaultdict(list)\n",
    "    for name, model in models.items():\n",
    "        names.append(name)\n",
    "        score, duration = compute_score(cv, model)\n",
    "        matrix['Log Likelihood'].append(-score)\n",
    "        matrix['Elapse (sec)'].append(duration)\n",
    "    return pd.DataFrame(matrix, index=names)"
   ]
  },
  {
   "cell_type": "markdown",
   "metadata": {},
   "source": [
    "## Compare different models"
   ]
  },
  {
   "cell_type": "code",
   "execution_count": 5,
   "metadata": {},
   "outputs": [
    {
     "data": {
      "text/html": [
       "<div>\n",
       "<style scoped>\n",
       "    .dataframe tbody tr th:only-of-type {\n",
       "        vertical-align: middle;\n",
       "    }\n",
       "\n",
       "    .dataframe tbody tr th {\n",
       "        vertical-align: top;\n",
       "    }\n",
       "\n",
       "    .dataframe thead th {\n",
       "        text-align: right;\n",
       "    }\n",
       "</style>\n",
       "<table border=\"1\" class=\"dataframe\">\n",
       "  <thead>\n",
       "    <tr style=\"text-align: right;\">\n",
       "      <th></th>\n",
       "      <th>Log Likelihood</th>\n",
       "      <th>Elapse (sec)</th>\n",
       "    </tr>\n",
       "  </thead>\n",
       "  <tbody>\n",
       "    <tr>\n",
       "      <th>sklearn-cv</th>\n",
       "      <td>0.087839</td>\n",
       "      <td>5.775733</td>\n",
       "    </tr>\n",
       "    <tr>\n",
       "      <th>sklearn-cv-10</th>\n",
       "      <td>0.078453</td>\n",
       "      <td>11.237246</td>\n",
       "    </tr>\n",
       "    <tr>\n",
       "      <th>aloocv-l2</th>\n",
       "      <td>0.078782</td>\n",
       "      <td>0.129117</td>\n",
       "    </tr>\n",
       "    <tr>\n",
       "      <th>aloocv-bridge</th>\n",
       "      <td>0.076862</td>\n",
       "      <td>0.163828</td>\n",
       "    </tr>\n",
       "  </tbody>\n",
       "</table>\n",
       "</div>"
      ],
      "text/plain": [
       "               Log Likelihood  Elapse (sec)\n",
       "sklearn-cv           0.087839      5.775733\n",
       "sklearn-cv-10        0.078453     11.237246\n",
       "aloocv-l2            0.078782      0.129117\n",
       "aloocv-bridge        0.076862      0.163828"
      ]
     },
     "execution_count": 5,
     "metadata": {},
     "output_type": "execute_result"
    }
   ],
   "source": [
    "cv = KFold(n_splits=10, shuffle=True, random_state=0)\n",
    "models = {\n",
    "    'sklearn-cv': LogisticRegressionCV(scoring='neg_log_loss', random_state=0),\n",
    "    'sklearn-cv-10': LogisticRegressionCV(scoring='neg_log_loss', cv=10, random_state=0),\n",
    "    'aloocv-l2' : peak_engines.LogisticRegressionModel(),\n",
    "    'aloocv-bridge' : peak_engines.LogisticRegressionModel(penalty='bridge')\n",
    "}\n",
    "compute_performance_matrix(models, cv)"
   ]
  },
  {
   "cell_type": "code",
   "execution_count": null,
   "metadata": {},
   "outputs": [],
   "source": []
  }
 ],
 "metadata": {
  "kernelspec": {
   "display_name": "Python 3",
   "language": "python",
   "name": "python3"
  },
  "language_info": {
   "codemirror_mode": {
    "name": "ipython",
    "version": 3
   },
   "file_extension": ".py",
   "mimetype": "text/x-python",
   "name": "python",
   "nbconvert_exporter": "python",
   "pygments_lexer": "ipython3",
   "version": "3.7.5"
  }
 },
 "nbformat": 4,
 "nbformat_minor": 4
}
