{
 "cells": [
  {
   "cell_type": "markdown",
   "metadata": {},
   "source": [
    "Compute frequentist coverages for Bayesian logistic regression with a single variable using Jeffreys prior.\n",
    "\n",
    "For more background on frequentist coverage matching, see\n",
    "\n",
    "Berger, J., J. Bernardo, and D. Sun (2022). Objective bayesian inference and its relationship to frequentism."
   ]
  },
  {
   "cell_type": "markdown",
   "metadata": {},
   "source": [
    "## Compute frequentist coverage"
   ]
  },
  {
   "cell_type": "code",
   "execution_count": 1,
   "metadata": {},
   "outputs": [],
   "source": [
    "from bbai.glm import BayesianLogisticRegression1\n",
    "import numpy as np\n",
    "import pandas as pd\n",
    "from scipy.special import expit"
   ]
  },
  {
   "cell_type": "code",
   "execution_count": 2,
   "metadata": {},
   "outputs": [],
   "source": [
    "alpha = 0.95\n",
    "low = (1 - alpha) / 2\n",
    "high = 1 - low\n",
    "\n",
    "def compute_coverage(x, w_true):\n",
    "    n = len(x)\n",
    "    res = 0\n",
    "    for targets in range(1 << n):\n",
    "        y = np.zeros(n)\n",
    "        prob = 1.0\n",
    "        for i in range(n):\n",
    "            y[i] = (targets & (1 << i)) != 0\n",
    "            mult = 2 * y[i] - 1.0\n",
    "            prob *= expit(mult * x[i] * w_true)\n",
    "        model = BayesianLogisticRegression1()\n",
    "        model.fit(x, y)\n",
    "        t = model.cdf(w_true)\n",
    "        if low < t and t < high:\n",
    "            res += prob\n",
    "    return res"
   ]
  },
  {
   "cell_type": "markdown",
   "metadata": {},
   "source": [
    "## Compute coverages for a range of different values"
   ]
  },
  {
   "cell_type": "code",
   "execution_count": 3,
   "metadata": {},
   "outputs": [],
   "source": [
    "N = 20\n",
    "np.random.seed(0)\n",
    "nx = [1, 3, 5, 10]\n",
    "wx = [0.0, 0.5, 1.0, 2.0, 3.0, 5.0]\n",
    "table = []\n",
    "for n in nx:\n",
    "    row = []\n",
    "    for w in wx:\n",
    "        cov = 0\n",
    "        for _ in range(N):\n",
    "            x = np.random.uniform(-1, 1, size=n)\n",
    "            cov += compute_coverage(x, w)\n",
    "        cov /= N\n",
    "        row.append(cov)\n",
    "    table.append(row)"
   ]
  },
  {
   "cell_type": "code",
   "execution_count": 4,
   "metadata": {},
   "outputs": [
    {
     "data": {
      "text/html": [
       "<div>\n",
       "<style scoped>\n",
       "    .dataframe tbody tr th:only-of-type {\n",
       "        vertical-align: middle;\n",
       "    }\n",
       "\n",
       "    .dataframe tbody tr th {\n",
       "        vertical-align: top;\n",
       "    }\n",
       "\n",
       "    .dataframe thead th {\n",
       "        text-align: right;\n",
       "    }\n",
       "</style>\n",
       "<table border=\"1\" class=\"dataframe\">\n",
       "  <thead>\n",
       "    <tr style=\"text-align: right;\">\n",
       "      <th></th>\n",
       "      <th>w=0.0</th>\n",
       "      <th>w=0.5</th>\n",
       "      <th>w=1.0</th>\n",
       "      <th>w=2.0</th>\n",
       "      <th>w=3.0</th>\n",
       "      <th>w=5.0</th>\n",
       "    </tr>\n",
       "  </thead>\n",
       "  <tbody>\n",
       "    <tr>\n",
       "      <th>n=1</th>\n",
       "      <td>1.000000</td>\n",
       "      <td>1.000000</td>\n",
       "      <td>1.000000</td>\n",
       "      <td>0.980229</td>\n",
       "      <td>0.966392</td>\n",
       "      <td>0.952218</td>\n",
       "    </tr>\n",
       "    <tr>\n",
       "      <th>n=3</th>\n",
       "      <td>1.000000</td>\n",
       "      <td>0.919042</td>\n",
       "      <td>0.939453</td>\n",
       "      <td>0.963553</td>\n",
       "      <td>0.961761</td>\n",
       "      <td>0.969956</td>\n",
       "    </tr>\n",
       "    <tr>\n",
       "      <th>n=5</th>\n",
       "      <td>0.896875</td>\n",
       "      <td>0.901532</td>\n",
       "      <td>0.928691</td>\n",
       "      <td>0.969868</td>\n",
       "      <td>0.964223</td>\n",
       "      <td>0.968547</td>\n",
       "    </tr>\n",
       "    <tr>\n",
       "      <th>n=10</th>\n",
       "      <td>0.941309</td>\n",
       "      <td>0.939282</td>\n",
       "      <td>0.936445</td>\n",
       "      <td>0.917138</td>\n",
       "      <td>0.943845</td>\n",
       "      <td>0.971962</td>\n",
       "    </tr>\n",
       "  </tbody>\n",
       "</table>\n",
       "</div>"
      ],
      "text/plain": [
       "         w=0.0     w=0.5     w=1.0     w=2.0     w=3.0     w=5.0\n",
       "n=1   1.000000  1.000000  1.000000  0.980229  0.966392  0.952218\n",
       "n=3   1.000000  0.919042  0.939453  0.963553  0.961761  0.969956\n",
       "n=5   0.896875  0.901532  0.928691  0.969868  0.964223  0.968547\n",
       "n=10  0.941309  0.939282  0.936445  0.917138  0.943845  0.971962"
      ]
     },
     "execution_count": 4,
     "metadata": {},
     "output_type": "execute_result"
    }
   ],
   "source": [
    "pd.DataFrame(\n",
    "    table,\n",
    "    index=['n={}'.format(n) for n in nx],\n",
    "    columns = ['w={}'.format(w) for w in wx],\n",
    ")"
   ]
  }
 ],
 "metadata": {
  "kernelspec": {
   "display_name": "Python 3 (ipykernel)",
   "language": "python",
   "name": "python3"
  },
  "language_info": {
   "codemirror_mode": {
    "name": "ipython",
    "version": 3
   },
   "file_extension": ".py",
   "mimetype": "text/x-python",
   "name": "python",
   "nbconvert_exporter": "python",
   "pygments_lexer": "ipython3",
   "version": "3.11.9"
  }
 },
 "nbformat": 4,
 "nbformat_minor": 4
}
