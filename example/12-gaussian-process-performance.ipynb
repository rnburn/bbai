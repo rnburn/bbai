{
 "cells": [
  {
   "cell_type": "markdown",
   "metadata": {},
   "source": [
    "## Overview\n",
    "\n",
    "Fit Bayesian Gaussian process models to different data sets with various tolerance thresholds. The data sets are described in\n",
    "\n",
    "*Schabenberger Oliver, Pierce Fran.*\n",
    "Contemporary Statistical Models for the\n",
    "Plant and Soil Science. 11 2001. 738.\n",
    "\n",
    "and\n",
    "\n",
    "Pebesma Edzer J., Bivand Roger S. Classes and methods for spatial data in R // R News. November 2005. 5, 2. 9–13."
   ]
  },
  {
   "cell_type": "markdown",
   "metadata": {},
   "source": [
    "## Load Data Set"
   ]
  },
  {
   "cell_type": "code",
   "execution_count": 1,
   "metadata": {},
   "outputs": [],
   "source": [
    "import numpy as np\n",
    "import time\n",
    "import scipy\n",
    "from bbai.gp import BayesianGaussianProcessRegression, Power1CovarianceFunction\n",
    "import matplotlib.pyplot as plt\n",
    "import matplotlib.cm as cm\n",
    "import rdata\n",
    "import requests\n",
    "import tempfile\n",
    "from collections import defaultdict"
   ]
  },
  {
   "cell_type": "code",
   "execution_count": 2,
   "metadata": {},
   "outputs": [],
   "source": [
    "def read_file(url):\n",
    "    tfile = tempfile.NamedTemporaryFile()\n",
    "    tfile.write(requests.get(url).content)\n",
    "    parsed = rdata.parser.parse_file(tfile.name)\n",
    "    return rdata.conversion.convert(parsed)"
   ]
  },
  {
   "cell_type": "code",
   "execution_count": 3,
   "metadata": {},
   "outputs": [],
   "source": [
    "datasets = {}\n",
    "\n",
    "# Add soil data\n",
    "from dataset.soil_cn.soil_cn_dataset import X, y\n",
    "n = len(y)\n",
    "Z = np.array(X)\n",
    "X = np.ones((n, 1))\n",
    "datasets['soil'] = (Z, X, y)\n",
    "\n",
    "# Add meuse data\n",
    "url = 'https://github.com/edzer/sp/raw/main/data/meuse.rda'\n",
    "df = read_file(url)['meuse']\n",
    "df = df[['x', 'y', 'dist', 'zinc']]\n",
    "Z = np.array(df.iloc[:, :2]) / 1.0e3\n",
    "y = np.log(np.array(df.iloc[:, -1]))\n",
    "dist = df.iloc[:, 2:3]\n",
    "X = np.hstack((np.ones((len(Z), 1)), np.sqrt(dist)))\n",
    "datasets['meuse'] = (Z, X, y)"
   ]
  },
  {
   "cell_type": "markdown",
   "metadata": {},
   "source": [
    "## Fit Model"
   ]
  },
  {
   "cell_type": "code",
   "execution_count": 4,
   "metadata": {},
   "outputs": [
    {
     "name": "stdout",
     "output_type": "stream",
     "text": [
      "soil 0.01 1.3517811298370361\n",
      "soil 0.001 1.1853382587432861\n",
      "soil 0.0001 2.923412799835205\n",
      "soil 1e-05 6.77296781539917\n",
      "soil 1e-06 10.154182195663452\n",
      "meuse 0.01 0.6730570793151855\n",
      "meuse 0.001 1.1384694576263428\n",
      "meuse 0.0001 2.5448386669158936\n",
      "meuse 1e-05 4.807579040527344\n",
      "meuse 1e-06 17.95725107192993\n"
     ]
    }
   ],
   "source": [
    "fit_results = defaultdict(list)\n",
    "for (name, (Z, X, y)) in datasets.items():\n",
    "    for tol in [1.0e-2, 1.0e-3, 1.0e-4, 1.0e-5, 1.0e-6]:\n",
    "        t1 = time.time()\n",
    "        model = BayesianGaussianProcessRegression(\n",
    "            kernel=Power1CovarianceFunction(), tolerance=tol)\n",
    "        model.fit(Z, y, X)\n",
    "        elapse = time.time() - t1\n",
    "        fit_results[name].append((model, tol, elapse))\n",
    "        print(name, tol, elapse)"
   ]
  },
  {
   "cell_type": "code",
   "execution_count": 5,
   "metadata": {},
   "outputs": [
    {
     "name": "stdout",
     "output_type": "stream",
     "text": [
      "**** soil 0.01 1.3517811298370361 249\n",
      "length 41.998093253345615 63.50132596095646 106.92075333884189\n",
      "noise_ratio 0.3149327989356085 0.4454634342072269 0.5974938744494842\n",
      "sigma2_signal 0.19873236963506982 0.24525395532228778 0.3140322430392845\n",
      "**** soil 0.001 1.1853382587432861 252\n",
      "length 42.444538163517805 63.14054885630358 105.13180234376262\n",
      "noise_ratio 0.31537265767185574 0.4446500087580262 0.6011890086055984\n",
      "sigma2_signal 0.1987245548748764 0.24523423729608484 0.31397788311776165\n",
      "**** soil 0.0001 2.923412799835205 798\n",
      "length 42.88314552314327 62.54595619234351 104.5599586217665\n",
      "noise_ratio 0.3162247107629836 0.44278452724756057 0.6064441029575582\n",
      "sigma2_signal 0.197972176989152 0.24538997805604332 0.316094663971309\n",
      "**** soil 1e-05 6.77296781539917 2218\n",
      "length 42.882764814085505 62.544236520569335 104.56607630933216\n",
      "noise_ratio 0.31622604100567675 0.44278515712601646 0.6064469957941565\n",
      "sigma2_signal 0.19794915138184405 0.2452509104807488 0.31673048565073836\n",
      "**** soil 1e-06 10.154182195663452 3415\n",
      "length 42.88276372821028 62.54423328903022 104.56613085229637\n",
      "noise_ratio 0.3162259642197603 0.44278522869464415 0.6064471681653693\n",
      "sigma2_signal 0.1979461359769555 0.2452585089532325 0.31669929837928046\n",
      "**** meuse 0.01 0.6730570793151855 215\n",
      "length 0.16822570952598348 0.21939212270073497 0.30225382653574556\n",
      "noise_ratio 0.17238058438354517 0.31056245195300564 0.4977779009299996\n",
      "sigma2_signal 0.1318773487780906 0.16035276908003873 0.19531761867143987\n",
      "**** meuse 0.001 1.1384694576263428 416\n",
      "length 0.1683631464563652 0.21887737314705513 0.3014272410202901\n",
      "noise_ratio 0.17377794262785146 0.30760046412664505 0.4965017151267622\n",
      "sigma2_signal 0.1317231566930507 0.16101242038470356 0.19504739291246886\n",
      "**** meuse 0.0001 2.5448386669158936 1193\n",
      "length 0.16833613379812606 0.21885776179622937 0.30139719650496494\n",
      "noise_ratio 0.1737599520732207 0.30756253495589786 0.49639018143859537\n",
      "sigma2_signal 0.1317097688617871 0.16103745222581256 0.19504413684214883\n",
      "**** meuse 1e-05 4.807579040527344 2358\n",
      "length 0.16834160323906577 0.21886106418630769 0.30139997515733147\n",
      "noise_ratio 0.173763672198101 0.30756231118046246 0.49637896439371254\n",
      "sigma2_signal 0.13170313987219573 0.16102920284257408 0.1950297570043617\n",
      "**** meuse 1e-06 17.95725107192993 8666\n",
      "length 0.16834154451285355 0.2188610710859535 0.3014004484886356\n",
      "noise_ratio 0.17376248931214447 0.30756134085201464 0.49637767739471006\n",
      "sigma2_signal 0.13170308810840645 0.16102932582325755 0.19503083932982893\n"
     ]
    }
   ],
   "source": [
    "for name, results in fit_results.items():\n",
    "    for model, tol, elapse in results:\n",
    "        dists = [\n",
    "            ('length', model.marginal_length_),\n",
    "            ('noise_ratio', model.marginal_noise_ratio_),\n",
    "            ('sigma2_signal', model.marginal_sigma2_signal_),\n",
    "        ]\n",
    "        print('****', name, tol, elapse, model.hyperparameter_matrix_.shape[1])\n",
    "        for dist_name, dist in dists:\n",
    "            print(dist_name, dist.ppf(0.25), dist.ppf(0.5), dist.ppf(0.75))"
   ]
  },
  {
   "cell_type": "code",
   "execution_count": null,
   "metadata": {},
   "outputs": [],
   "source": []
  }
 ],
 "metadata": {
  "kernelspec": {
   "display_name": "Python 3 (ipykernel)",
   "language": "python",
   "name": "python3"
  },
  "language_info": {
   "codemirror_mode": {
    "name": "ipython",
    "version": 3
   },
   "file_extension": ".py",
   "mimetype": "text/x-python",
   "name": "python",
   "nbconvert_exporter": "python",
   "pygments_lexer": "ipython3",
   "version": "3.8.10"
  }
 },
 "nbformat": 4,
 "nbformat_minor": 4
}
