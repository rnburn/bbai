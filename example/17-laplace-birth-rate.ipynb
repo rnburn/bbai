{
 "cells": [
  {
   "cell_type": "markdown",
   "id": "464ef04e-3069-4d83-a22a-9ea3a8ee6393",
   "metadata": {},
   "source": [
    "Laplace studied the relative birth rate of boys-to-girls and considered it \"one of the most interesting [problems] in which we are able to apply the Calculus of probabilities\"\n",
    "\n",
    "In this notebook, I'll reproduce his work with a uniform prior and also show what answers we'd get using Jeffreys prior (or a reference prior).\n",
    "\n",
    "[1]: Laplace, P. (1778). [Mémoire sur les probabilités](http://www.probabilityandfinance.com/pulskamp/Laplace/memoir_probabilities.pdf). Translated by Richard J. Pulskamp."
   ]
  },
  {
   "cell_type": "code",
   "execution_count": 1,
   "id": "225a8d0f-40ac-4536-bf4c-49541bb95984",
   "metadata": {},
   "outputs": [],
   "source": [
    "# B and G represents the number of boys and girls born. The data is taken from Laplace's paper\n",
    "B = 251527\n",
    "G = 241945"
   ]
  },
  {
   "cell_type": "code",
   "execution_count": 2,
   "id": "2acf8d89-9324-4b54-8341-e419574d4d5d",
   "metadata": {},
   "outputs": [
    {
     "name": "stdout",
     "output_type": "stream",
     "text": [
      "Laplace:  1.146058490154673e-42\n",
      "Jeffreys:  1.1458412665004139e-42\n"
     ]
    }
   ],
   "source": [
    "# Here's how we'd answer the question \"what is the probability that a boy is born is less than 0.5?\" \n",
    "# using Laplace's uniform prior and Jeffreys prior\n",
    "\n",
    "# Laplace's prior\n",
    "from scipy.stats import beta\n",
    "dist = beta(B + 1, G + 1)\n",
    "print('Laplace: ', dist.cdf(0.5))\n",
    "\n",
    "# Jeffreys prior\n",
    "dist = beta(B + 0.5, G + 0.5)\n",
    "print('Jeffreys: ', dist.cdf(0.5))"
   ]
  },
  {
   "cell_type": "code",
   "execution_count": 3,
   "id": "1888e840-edfc-4459-9839-363ae23e1427",
   "metadata": {},
   "outputs": [
    {
     "name": "stdout",
     "output_type": "stream",
     "text": [
      "boys girls Prob Laplace Prob Jeffeys\n",
      "0 0 0.50000 0.50000\n",
      "749 751 0.52058 0.52059\n",
      "1511 1489 0.34399 0.34397\n",
      "2263 2237 0.34918 0.34916\n",
      "3081 2919 0.01825 0.01824\n",
      "3810 3690 0.08294 0.08293\n",
      "4514 4486 0.38395 0.38394\n",
      "5341 5159 0.03786 0.03785\n",
      "6139 5861 0.00558 0.00558\n",
      "6792 6708 0.23486 0.23485\n",
      "7608 7392 0.03890 0.03890\n",
      "8308 8192 0.18325 0.18325\n",
      "9145 8855 0.01533 0.01533\n",
      "9957 9543 0.00151 0.00151\n",
      "10618 10382 0.05171 0.05170\n"
     ]
    }
   ],
   "source": [
    "# Here's a table simulating how the probability might evolve as more and more data is collected\n",
    "import numpy as np\n",
    "theta = B / (B + G)\n",
    "print('boys', 'girls', 'Prob Laplace', 'Prob Jeffeys')\n",
    "np.random.seed(0)\n",
    "for i in range(15):\n",
    "  n = 1500 * i\n",
    "  boys = np.random.binomial(n, theta)\n",
    "  p_L = beta(boys + 1, n - boys + 1).cdf(0.5)\n",
    "  p_J = beta(boys + 0.5, n - boys + 0.5).cdf(0.5)\n",
    "  print(boys, n - boys, '%0.5f' % p_L, '%0.5f' % p_J)"
   ]
  },
  {
   "cell_type": "code",
   "execution_count": null,
   "id": "f0fa86af-5b39-4424-ba22-e1a761113986",
   "metadata": {},
   "outputs": [],
   "source": []
  }
 ],
 "metadata": {
  "kernelspec": {
   "display_name": "Python 3 (ipykernel)",
   "language": "python",
   "name": "python3"
  },
  "language_info": {
   "codemirror_mode": {
    "name": "ipython",
    "version": 3
   },
   "file_extension": ".py",
   "mimetype": "text/x-python",
   "name": "python",
   "nbconvert_exporter": "python",
   "pygments_lexer": "ipython3",
   "version": "3.11.4"
  }
 },
 "nbformat": 4,
 "nbformat_minor": 5
}
