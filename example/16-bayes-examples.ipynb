{
 "cells": [
  {
   "cell_type": "markdown",
   "id": "7bd96a24-08ce-4ed5-84ed-388b13845d29",
   "metadata": {},
   "source": [
    "In this notebook we'll explore applications from Bayes famous work\n",
    "[An Essay towards solving a Problem in the Doctrine of Chances](https://web.archive.org/web/20110410085940/http://www.stat.ucla.edu/history/essay.pdf).\n",
    "\n",
    "The problems actually come from an appendix Richard Price added while editing the work for publication. In all of the problems, I'll present the solution you'd get using the uniform prior Bayes proposed and the solution you'd get with Jeffreys prior. \n",
    "\n",
    "For single parameter models, Jeffreys prior has optimal frequentist matching performance (see [1]), so it\n",
    "is arguable a better prior for these applications.\n",
    "\n",
    "[1]: Welch, B. L. and H. W. Peers(1963). On formulae for confidence points based on integrals of weighted likelihoods. Journal of the Royal Statistical Society Series B-methodological 25, 318–329."
   ]
  },
  {
   "cell_type": "markdown",
   "id": "ef29b863-0f9e-4e72-b2e7-a8ffc01056e9",
   "metadata": {},
   "source": [
    "### A bunch of 1s\n",
    "\n",
    "What can we say about the unkown parameter of a Bernoulli distribution after observing only 1s?"
   ]
  },
  {
   "cell_type": "code",
   "execution_count": 1,
   "id": "89c9f2ef-9a8e-472a-92bb-754ebdca50ec",
   "metadata": {},
   "outputs": [
    {
     "name": "stdout",
     "output_type": "stream",
     "text": [
      "num 1s\t\t Probability p > 0.5 (Bayes)\t\t Probability p > 0.5 (Jeffreys)\n",
      "1 \t\t 0.75000 \t\t\t\t 0.8183\n",
      "2 \t\t 0.87500 \t\t\t\t 0.9244\n",
      "3 \t\t 0.93750 \t\t\t\t 0.9669\n",
      "4 \t\t 0.96875 \t\t\t\t 0.9850\n",
      "5 \t\t 0.98438 \t\t\t\t 0.9931\n",
      "6 \t\t 0.99219 \t\t\t\t 0.9968\n",
      "7 \t\t 0.99609 \t\t\t\t 0.9985\n",
      "8 \t\t 0.99805 \t\t\t\t 0.9993\n",
      "9 \t\t 0.99902 \t\t\t\t 0.9997\n",
      "10 \t\t 0.99951 \t\t\t\t 0.9998\n"
     ]
    }
   ],
   "source": [
    "from scipy.stats import beta\n",
    "\n",
    "def prob_bayes(n):\n",
    "    dist = beta(n+1, 1)\n",
    "    return dist.cdf(1) - dist.cdf(0.5)\n",
    "\n",
    "def prob_jeffreys(n):\n",
    "    dist = beta(n+0.5, 0.5)\n",
    "    return dist.cdf(1) - dist.cdf(0.5)\n",
    "\n",
    "print('num 1s\\t\\t', 'Probability p > 0.5 (Bayes)\\t\\t', 'Probability p > 0.5 (Jeffreys)')\n",
    "for n in range(1, 11):\n",
    "    print(n, '\\t\\t', '%0.5f' % prob_bayes(n), '\\t\\t\\t\\t', '%0.4f' % prob_jeffreys(n))"
   ]
  },
  {
   "cell_type": "markdown",
   "id": "584e28ce-205f-4df7-82a1-e647e1d400b6",
   "metadata": {},
   "source": [
    "### A Lottery\n",
    "What can we say about a lottery's ratio of blanks to prizes after observing a sample?\n",
    "\n",
    "Let $\\theta$ denote the unknown probability of drawing a blank."
   ]
  },
  {
   "cell_type": "code",
   "execution_count": 2,
   "id": "b265640e-1644-42c8-9479-74b2f0b01e9a",
   "metadata": {},
   "outputs": [
    {
     "name": "stdout",
     "output_type": "stream",
     "text": [
      "blanks\t prizes\t probability 9/10 < θ < 11/12 (Bayes)\t probability 9/10 < θ < 11/12 (Jeffreys)\n",
      "10 \t 1 \t\t0.0770\t\t\t\t 0.0804\n",
      "20 \t 2 \t\t0.1084\t\t\t\t 0.1107\n",
      "40 \t 4 \t\t0.1527\t\t\t\t 0.1541\n",
      "100 \t 10 \t\t0.2390\t\t\t\t 0.2395\n",
      "1000 \t 100 \t\t0.6628\t\t\t\t 0.6618\n"
     ]
    }
   ],
   "source": [
    "def prob_bayes(w):\n",
    "    dist = beta(10 * w+1, w +1)\n",
    "    return dist.cdf(11.0 / 12.0) - dist.cdf(9.0 / 10.0)\n",
    "\n",
    "def prob_jeffreys(w):\n",
    "    dist = beta(10 * w+0.5, w +0.5)\n",
    "    return dist.cdf(11.0 / 12.0) - dist.cdf(9.0 / 10.0)\n",
    "\n",
    "print('blanks\\t', 'prizes\\t', 'probability 9/10 < θ < 11/12 (Bayes)\\t', 'probability 9/10 < θ < 11/12 (Jeffreys)')\n",
    "for prizes in [1, 2, 4, 10, 100]:\n",
    "    blanks = 10 * prizes\n",
    "    print(blanks, '\\t', prizes, '\\t\\t%0.4f\\t\\t\\t\\t' % prob_bayes(prizes), '%0.4f' % prob_jeffreys(prizes))"
   ]
  },
  {
   "cell_type": "code",
   "execution_count": null,
   "id": "f66c3c35-3318-4fc4-a3b8-e0baf36e2a33",
   "metadata": {},
   "outputs": [],
   "source": []
  }
 ],
 "metadata": {
  "kernelspec": {
   "display_name": "Python 3 (ipykernel)",
   "language": "python",
   "name": "python3"
  },
  "language_info": {
   "codemirror_mode": {
    "name": "ipython",
    "version": 3
   },
   "file_extension": ".py",
   "mimetype": "text/x-python",
   "name": "python",
   "nbconvert_exporter": "python",
   "pygments_lexer": "ipython3",
   "version": "3.11.4"
  }
 },
 "nbformat": 4,
 "nbformat_minor": 5
}
