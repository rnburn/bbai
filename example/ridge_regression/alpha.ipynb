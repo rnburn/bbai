{
 "cells": [
  {
   "cell_type": "markdown",
   "metadata": {},
   "source": [
    "# Validate Alpha Parameter\n",
    "*This notebook plots the LOOCV of ridge regression across a range of alpha values and verifies that peak-engines finds an optimum.*"
   ]
  },
  {
   "cell_type": "markdown",
   "metadata": {},
   "source": [
    "## Import dependencies"
   ]
  },
  {
   "cell_type": "code",
   "execution_count": 1,
   "metadata": {},
   "outputs": [],
   "source": [
    "import numpy as np\n",
    "import pandas as pd\n",
    "import peak_engines\n",
    "from sklearn.model_selection import LeaveOneOut\n",
    "from sklearn.model_selection import cross_validate\n",
    "from sklearn.linear_model import Ridge\n",
    "from sklearn.preprocessing import StandardScaler\n",
    "import matplotlib.pyplot as plt"
   ]
  },
  {
   "cell_type": "markdown",
   "metadata": {},
   "source": [
    "## Load the pollution dataset\n",
    "The data is from\n",
    "> McDonald and Schwing (1973), \"Instabilities of Regression Estimates Relating Air Pollution to Mortality,\" Technometrics, 15, 463-481\n",
    "\n",
    "and is available at [NCSU](https://www4.stat.ncsu.edu/~boos/var.select/pollution.html)."
   ]
  },
  {
   "cell_type": "code",
   "execution_count": 2,
   "metadata": {},
   "outputs": [],
   "source": [
    "df = pd.read_csv('pollution/pollution.tsv', \n",
    "                 header=0, delim_whitespace=True)\n",
    "X = np.array(df.iloc[:, :-1].values, dtype=float)\n",
    "X = StandardScaler().fit_transform(X)\n",
    "y = np.array(df.iloc[:,-1].values, dtype=float)\n",
    "X = StandardScaler().fit_transform(X)\n",
    "y /= np.std(y)"
   ]
  },
  {
   "cell_type": "markdown",
   "metadata": {},
   "source": [
    "## Fit a ridge regression model so as to mimize the LOOCV error"
   ]
  },
  {
   "cell_type": "code",
   "execution_count": 3,
   "metadata": {},
   "outputs": [
    {
     "name": "stdout",
     "output_type": "stream",
     "text": [
      "alpha =  8.437006536233131\n"
     ]
    }
   ],
   "source": [
    "model = peak_engines.RidgeRegressionModel()\n",
    "model.fit(X, y)\n",
    "alpha_best = model.alpha_\n",
    "print(\"alpha = \", alpha_best)"
   ]
  },
  {
   "cell_type": "markdown",
   "metadata": {},
   "source": [
    "## Plot the LOOCV error for different values of alpha"
   ]
  },
  {
   "cell_type": "code",
   "execution_count": 4,
   "metadata": {},
   "outputs": [],
   "source": [
    "alphas = np.arange(0.1, 20, .1)\n",
    "scores = []\n",
    "for alpha in alphas:\n",
    "    model = Ridge(alpha=alpha)\n",
    "    score = cross_validate(model, X, y, cv=LeaveOneOut(), scoring='neg_mean_squared_error')\n",
    "    scores.append(-score['test_score'].mean())"
   ]
  },
  {
   "cell_type": "code",
   "execution_count": 5,
   "metadata": {},
   "outputs": [
    {
     "data": {
      "text/plain": [
       "<matplotlib.legend.Legend at 0x7fc31c061690>"
      ]
     },
     "execution_count": 5,
     "metadata": {},
     "output_type": "execute_result"
    },
    {
     "data": {
      "image/png": "[encoded data removed]",
      "text/plain": [
       "<Figure size 432x288 with 1 Axes>"
      ]
     },
     "metadata": {
      "needs_background": "light"
     },
     "output_type": "display_data"
    }
   ],
   "source": [
    "plt.xlabel('Alpha')\n",
    "plt.ylabel('Mean Squared Error on LOOCV')\n",
    "plt.plot(alphas, scores)\n",
    "plt.axvline(alpha_best, color='tab:green', label='Alpha Best')\n",
    "plt.title('Pollution Dataset')\n",
    "plt.legend(loc='upper right')"
   ]
  },
  {
   "cell_type": "code",
   "execution_count": null,
   "metadata": {},
   "outputs": [],
   "source": []
  }
 ],
 "metadata": {
  "kernelspec": {
   "display_name": "Python 3",
   "language": "python",
   "name": "python3"
  },
  "language_info": {
   "codemirror_mode": {
    "name": "ipython",
    "version": 3
   },
   "file_extension": ".py",
   "mimetype": "text/x-python",
   "name": "python",
   "nbconvert_exporter": "python",
   "pygments_lexer": "ipython3",
   "version": "3.7.5"
  }
 },
 "nbformat": 4,
 "nbformat_minor": 4
}
