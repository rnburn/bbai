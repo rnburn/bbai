{
 "cells": [
  {
   "cell_type": "markdown",
   "metadata": {},
   "source": [
    "# Ridge Regression on Boston Housing Dataset\n",
    "*This notebook builds ridge regression models for predicting housing prices in Boston.*"
   ]
  },
  {
   "cell_type": "markdown",
   "metadata": {},
   "source": [
    "## Import Dependencies"
   ]
  },
  {
   "cell_type": "code",
   "execution_count": 1,
   "metadata": {},
   "outputs": [],
   "source": [
    "import numpy as np\n",
    "import scipy\n",
    "from collections import defaultdict\n",
    "import peak_engines\n",
    "from sklearn.metrics import mean_squared_error\n",
    "from sklearn.datasets import load_boston\n",
    "from sklearn.model_selection import train_test_split\n",
    "from sklearn.linear_model import LinearRegression\n",
    "import matplotlib.pyplot as plt"
   ]
  },
  {
   "cell_type": "markdown",
   "metadata": {},
   "source": [
    "## Prepare Dataset"
   ]
  },
  {
   "cell_type": "code",
   "execution_count": 2,
   "metadata": {},
   "outputs": [],
   "source": [
    "X, y = load_boston(return_X_y=True)"
   ]
  },
  {
   "cell_type": "markdown",
   "metadata": {},
   "source": [
    "## Set up a validation simulation"
   ]
  },
  {
   "cell_type": "code",
   "execution_count": 3,
   "metadata": {},
   "outputs": [],
   "source": [
    "def validate_models(models, n, num_trials):\n",
    "    result = defaultdict(list)\n",
    "    for _ in range(num_trials):\n",
    "        X_train, X_test, y_train, y_test = train_test_split(X, y, train_size=n)\n",
    "        for name, model in models:\n",
    "            model.fit(X_train, y_train)\n",
    "            y_pred = model.predict(X_test)\n",
    "            result[name].append(np.sqrt(mean_squared_error(y_test, y_pred)))\n",
    "    return result\n",
    "\n",
    "def run_simulation(models, train_sizes, num_trials):\n",
    "    result = defaultdict(lambda: defaultdict(list))\n",
    "    for n in train_sizes:\n",
    "        for name, errors in validate_models(models, n, num_trials).items():\n",
    "            mean = np.mean(errors)\n",
    "            stddev = np.std(errors, ddof=1)\n",
    "            interval = scipy.stats.t.interval(alpha=0.95, df=num_trials-1, scale=stddev/np.sqrt(num_trials))\n",
    "            result[name]['mean'].append(mean)\n",
    "            result[name]['error_bar'].append(interval[1])\n",
    "    return result"
   ]
  },
  {
   "cell_type": "markdown",
   "metadata": {},
   "source": [
    "## Run validation simulation"
   ]
  },
  {
   "cell_type": "code",
   "execution_count": 4,
   "metadata": {},
   "outputs": [
    {
     "data": {
      "image/png": "[encoded data removed]",
      "text/plain": [
       "<Figure size 432x288 with 1 Axes>"
      ]
     },
     "metadata": {
      "needs_background": "light"
     },
     "output_type": "display_data"
    }
   ],
   "source": [
    "np.random.seed(0)\n",
    "models = [\n",
    "    ('LS', LinearRegression()),\n",
    "    ('RR-LOOCV1', peak_engines.RidgeRegressionModel()),\n",
    "        # Use a single regularizer for all regressors set so as to minimize the \n",
    "        # leave-one-out cross-validation error on the training dataset\n",
    "]\n",
    "train_sizes = [50, 100, 150, 200, 300]\n",
    "num_trials = 300\n",
    "simulation_results = run_simulation(models, train_sizes, num_trials)\n",
    "\n",
    "for name, simulation_result in simulation_results.items():\n",
    "    plt.errorbar(train_sizes, \n",
    "                 simulation_result['mean'], \n",
    "                 yerr=simulation_result['error_bar'], \n",
    "                 label=name)\n",
    "plt.legend(loc='upper right')\n",
    "plt.xlabel('Train Size (n)')\n",
    "plt.ylabel('Mean RMSE')\n",
    "plt.show()"
   ]
  }
 ],
 "metadata": {
  "kernelspec": {
   "display_name": "Python 3",
   "language": "python",
   "name": "python3"
  },
  "language_info": {
   "codemirror_mode": {
    "name": "ipython",
    "version": 3
   },
   "file_extension": ".py",
   "mimetype": "text/x-python",
   "name": "python",
   "nbconvert_exporter": "python",
   "pygments_lexer": "ipython3",
   "version": "3.7.5"
  }
 },
 "nbformat": 4,
 "nbformat_minor": 4
}
