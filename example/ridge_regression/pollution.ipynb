{
 "cells": [
  {
   "cell_type": "markdown",
   "metadata": {},
   "source": [
    "# Ridge Regression on Pollution Dataset"
   ]
  },
  {
   "cell_type": "markdown",
   "metadata": {},
   "source": [
    "*This notebook builds ridge regression models for predicting mortality rate from air quality.*\n",
    "\n",
    "The data is from \n",
    "> McDonald and Schwing (1973), \"Instabilities of Regression Estimates Relating Air Pollution to Mortality,\" Technometrics, 15, 463-481\n",
    "\n",
    "and is available at [NCSU](https://www4.stat.ncsu.edu/~boos/var.select/pollution.html)."
   ]
  },
  {
   "cell_type": "markdown",
   "metadata": {},
   "source": [
    "## Import Dependencies"
   ]
  },
  {
   "cell_type": "code",
   "execution_count": 1,
   "metadata": {},
   "outputs": [],
   "source": [
    "import peak_engines\n",
    "from sklearn.linear_model import LinearRegression\n",
    "from sklearn.model_selection import cross_val_score\n",
    "from sklearn.model_selection import KFold\n",
    "import pandas as pd\n",
    "import numpy as np"
   ]
  },
  {
   "cell_type": "markdown",
   "metadata": {},
   "source": [
    "## Prepare the dataset"
   ]
  },
  {
   "cell_type": "code",
   "execution_count": 2,
   "metadata": {},
   "outputs": [],
   "source": [
    "df = pd.read_csv('pollution.data', header=0, delim_whitespace=True)\n",
    "X = np.array(df.iloc[:, :-1].values, dtype=float)\n",
    "y = np.array(df.iloc[:,-1].values, dtype=float)"
   ]
  },
  {
   "cell_type": "markdown",
   "metadata": {},
   "source": [
    "## Compare performance on a leave-one-out cross-validation"
   ]
  },
  {
   "cell_type": "code",
   "execution_count": 3,
   "metadata": {},
   "outputs": [
    {
     "name": "stdout",
     "output_type": "stream",
     "text": [
      "LS        46.22537029926944\n",
      "RR-LOOCV1 41.10493007204587\n",
      "RR-LOOCV2 39.637028154122135\n",
      "RR-LOOCV3 42.02104287401623\n"
     ]
    }
   ],
   "source": [
    "cv_splits = KFold(len(y))\n",
    "models = [\n",
    "    ('LS       ', LinearRegression()),\n",
    "    ('RR-LOOCV1', peak_engines.RidgeRegressionModel()),\n",
    "    ('RR-LOOCV2', peak_engines.RidgeRegressionModel(num_groups=2)), \n",
    "        # Uses two regularizers and groups regressors by their magnitude\n",
    "    ('RR-LOOCV3', peak_engines.RidgeRegressionModel(num_groups=3)),\n",
    "        # Uses three regularizers and groups regressors by their magnitude\n",
    "]\n",
    "for name, model in models:\n",
    "    cv_results = cross_val_score(model, X, y, cv = cv_splits, scoring='neg_mean_squared_error')\n",
    "    print(name, np.sqrt(-cv_results.mean()))"
   ]
  }
 ],
 "metadata": {
  "kernelspec": {
   "display_name": "Python 3",
   "language": "python",
   "name": "python3"
  },
  "language_info": {
   "codemirror_mode": {
    "name": "ipython",
    "version": 3
   },
   "file_extension": ".py",
   "mimetype": "text/x-python",
   "name": "python",
   "nbconvert_exporter": "python",
   "pygments_lexer": "ipython3",
   "version": "3.7.5"
  }
 },
 "nbformat": 4,
 "nbformat_minor": 4
}
