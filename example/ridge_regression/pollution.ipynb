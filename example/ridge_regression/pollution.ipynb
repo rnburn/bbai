{
 "cells": [
  {
   "cell_type": "markdown",
   "metadata": {},
   "source": [
    "# Ridge Regression on Pollution Dataset"
   ]
  },
  {
   "cell_type": "markdown",
   "metadata": {},
   "source": [
    "*This notebook builds ridge regression models for predicting mortality rate from air quality.*\n",
    "\n",
    "The data is from \n",
    "> McDonald and Schwing (1973), \"Instabilities of Regression Estimates Relating Air Pollution to Mortality,\" Technometrics, 15, 463-481\n",
    "\n",
    "and is available at [NCSU](https://www4.stat.ncsu.edu/~boos/var.select/pollution.html)."
   ]
  },
  {
   "cell_type": "markdown",
   "metadata": {},
   "source": [
    "## Import Dependencies"
   ]
  },
  {
   "cell_type": "code",
   "execution_count": 1,
   "metadata": {},
   "outputs": [],
   "source": [
    "import peak_engines\n",
    "import sklearn\n",
    "from sklearn.linear_model import LinearRegression\n",
    "from sklearn.model_selection import cross_val_score\n",
    "from sklearn.model_selection import KFold\n",
    "import pandas as pd\n",
    "import numpy as np"
   ]
  },
  {
   "cell_type": "markdown",
   "metadata": {},
   "source": [
    "## Prepare the dataset"
   ]
  },
  {
   "cell_type": "code",
   "execution_count": 2,
   "metadata": {},
   "outputs": [],
   "source": [
    "df = pd.read_csv('pollution.tsv', header=0, delim_whitespace=True)\n",
    "X = np.array(df.iloc[:, :-1].values, dtype=float)\n",
    "X = sklearn.preprocessing.StandardScaler().fit_transform(X)\n",
    "y = np.array(df.iloc[:,-1].values, dtype=float)"
   ]
  },
  {
   "cell_type": "markdown",
   "metadata": {},
   "source": [
    "## Compare performance on a leave-one-out cross-validation"
   ]
  },
  {
   "cell_type": "code",
   "execution_count": 3,
   "metadata": {},
   "outputs": [
    {
     "name": "stdout",
     "output_type": "stream",
     "text": [
      "LS        46.225370299269144\n",
      "RR-LOOCV1 41.13025109202713\n",
      "RR-LOOCV2 39.63797831378044\n",
      "RR-GCV1 40.89446991681711\n",
      "RR-GCV2 39.619374460805155\n"
     ]
    }
   ],
   "source": [
    "cv_splits = KFold(len(y))\n",
    "models = [\n",
    "    ('LS       ', LinearRegression()),\n",
    "    ('RR-LOOCV1', peak_engines.RidgeRegressionModel(score='loocv', normalize=True)),\n",
    "    ('RR-LOOCV2', peak_engines.RidgeRegressionModel(score='loocv', num_groups=2, \n",
    "                                                    normalize=True)), \n",
    "        # Uses two regularizers and groups regressors by their magnitude\n",
    "    ('RR-GCV1', peak_engines.RidgeRegressionModel(score='gcv', normalize=True)),\n",
    "    ('RR-GCV2', peak_engines.RidgeRegressionModel(score='gcv', num_groups=2, \n",
    "                                                  normalize=True)), \n",
    "        # Uses two regularizers and groups regressors by their magnitude\n",
    "]\n",
    "for name, model in models:\n",
    "    cv_results = cross_val_score(model, X, y, cv = cv_splits, scoring='neg_mean_squared_error')\n",
    "    print(name, np.sqrt(-cv_results.mean()))"
   ]
  },
  {
   "cell_type": "code",
   "execution_count": null,
   "metadata": {},
   "outputs": [],
   "source": []
  }
 ],
 "metadata": {
  "kernelspec": {
   "display_name": "Python 3",
   "language": "python",
   "name": "python3"
  },
  "language_info": {
   "codemirror_mode": {
    "name": "ipython",
    "version": 3
   },
   "file_extension": ".py",
   "mimetype": "text/x-python",
   "name": "python",
   "nbconvert_exporter": "python",
   "pygments_lexer": "ipython3",
   "version": "3.7.5"
  }
 },
 "nbformat": 4,
 "nbformat_minor": 4
}
