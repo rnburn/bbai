{
 "cells": [
  {
   "cell_type": "markdown",
   "metadata": {},
   "source": [
    "# Compare LOOCV and GCV on Pollution Dataset"
   ]
  },
  {
   "cell_type": "markdown",
   "metadata": {},
   "source": [
    "## Import dependencies"
   ]
  },
  {
   "cell_type": "code",
   "execution_count": 1,
   "metadata": {},
   "outputs": [],
   "source": [
    "import numpy as np\n",
    "import pandas as pd\n",
    "import peak_engines\n",
    "import scipy\n",
    "from sklearn.model_selection import LeaveOneOut\n",
    "from sklearn.linear_model import RidgeCV\n",
    "from sklearn.preprocessing import StandardScaler\n",
    "import matplotlib.pyplot as plt"
   ]
  },
  {
   "cell_type": "markdown",
   "metadata": {},
   "source": [
    "## Load the pollution dataset\n",
    "The data is from\n",
    "> McDonald and Schwing (1973), \"Instabilities of Regression Estimates Relating Air Pollution to Mortality,\" Technometrics, 15, 463-481\n",
    "\n",
    "and is available at [NCSU](https://www4.stat.ncsu.edu/~boos/var.select/pollution.html)."
   ]
  },
  {
   "cell_type": "code",
   "execution_count": 2,
   "metadata": {},
   "outputs": [],
   "source": [
    "df = pd.read_csv('pollution.tsv', \n",
    "                 header=0, delim_whitespace=True)\n",
    "X = np.array(df.iloc[:, :-1].values, dtype=float)\n",
    "y = np.array(df.iloc[:,-1].values, dtype=float)\n",
    "X = StandardScaler().fit_transform(X)"
   ]
  },
  {
   "cell_type": "markdown",
   "metadata": {},
   "source": [
    "## Fit a ridge regression model so as to mimize the LOOCV error"
   ]
  },
  {
   "cell_type": "code",
   "execution_count": 3,
   "metadata": {},
   "outputs": [
    {
     "name": "stdout",
     "output_type": "stream",
     "text": [
      "loocv_alpha_best =  8.437006486935175\n",
      "gcv_alpha_best =  7.095235374911837\n"
     ]
    }
   ],
   "source": [
    "loocv_alpha_best = peak_engines.RidgeRegressionModel(score='loocv').fit(X, y).alpha_\n",
    "gcv_alpha_best = peak_engines.RidgeRegressionModel(score='gcv').fit(X, y).alpha_\n",
    "print(\"loocv_alpha_best = \", loocv_alpha_best)\n",
    "print(\"gcv_alpha_best = \", gcv_alpha_best)"
   ]
  },
  {
   "cell_type": "markdown",
   "metadata": {},
   "source": [
    "## Compute GCV"
   ]
  },
  {
   "cell_type": "code",
   "execution_count": 4,
   "metadata": {},
   "outputs": [],
   "source": [
    "def compute_l_matrix(X, alpha):\n",
    "    R = scipy.linalg.qr(X, mode='r')[0]\n",
    "    E = np.dot(np.conj(R.T), R) + np.diag(alpha)\n",
    "    return np.linalg.cholesky(E)"
   ]
  },
  {
   "cell_type": "code",
   "execution_count": 5,
   "metadata": {},
   "outputs": [],
   "source": [
    "def compute_ridge_regression_prediction(X, y, alpha, X_test):\n",
    "    z = np.dot(np.conj(X.T), y)\n",
    "    L = compute_l_matrix(X, alpha)\n",
    "    beta = scipy.linalg.solve_triangular(L, z, lower=True)\n",
    "    beta = scipy.linalg.solve_triangular(np.conj(L.T), beta, lower=False)\n",
    "    return np.dot(X_test, beta)"
   ]
  },
  {
   "cell_type": "code",
   "execution_count": 6,
   "metadata": {},
   "outputs": [],
   "source": [
    "def compute_loocv_impl(X, y, alpha):\n",
    "    result = 0\n",
    "    for train_indexes, test_indexes in LeaveOneOut().split(X):\n",
    "        X_train, X_test = X[train_indexes], X[test_indexes]\n",
    "        y_train, y_test = y[train_indexes], y[test_indexes]\n",
    "        y_pred = compute_ridge_regression_prediction(X_train, y_train, alpha, X_test)\n",
    "        result += np.abs(y_test[0] - y_pred[0])**2\n",
    "    return result / len(y)"
   ]
  },
  {
   "cell_type": "code",
   "execution_count": 7,
   "metadata": {},
   "outputs": [],
   "source": [
    "def compute_loocv(X, y, alpha, fit_intercept=True):\n",
    "    n, k = X.shape\n",
    "    if fit_intercept:\n",
    "        alpha = np.array([alpha]*k + [0])\n",
    "        X = np.hstack((X, np.ones((n, 1))))\n",
    "        k +=1\n",
    "    else:\n",
    "        alpha = np.ones(k)*alpha\n",
    "    return compute_loocv_impl(X, y, alpha)"
   ]
  },
  {
   "cell_type": "code",
   "execution_count": 8,
   "metadata": {},
   "outputs": [],
   "source": [
    "def compute_gcv(X, y, alpha, fit_intercept=True):\n",
    "    n, k = X.shape\n",
    "    if fit_intercept:\n",
    "        alpha = np.array([alpha]*k + [0])\n",
    "        X = np.hstack((X, np.ones((n, 1))))\n",
    "        k +=1\n",
    "    else:\n",
    "        alpha = np.ones(k)*alpha\n",
    "    U, S, Vt = np.linalg.svd(X)\n",
    "    S = np.vstack((np.diag(S), np.zeros((n-k, k))))\n",
    "    # Note: the rotation for GCV can be computed much more efficiently with a FFT, but this \n",
    "    # keeps things simple.\n",
    "    W = np.array([[np.exp(2j*np.pi*i*j/n) / np.sqrt(n) for j in range(n)] for i in range(n)])\n",
    "    X_prime = np.dot(W, np.dot(S, Vt))\n",
    "    y_prime = np.dot(W, np.dot(U.T, y))\n",
    "    return compute_loocv_impl(X_prime, y_prime, alpha)"
   ]
  },
  {
   "cell_type": "code",
   "execution_count": 9,
   "metadata": {},
   "outputs": [
    {
     "name": "stdout",
     "output_type": "stream",
     "text": [
      "1522.474621462299\n",
      "1522.4745400263112\n",
      "1522.4746213065278\n"
     ]
    }
   ],
   "source": [
    "print(compute_gcv(X, y, gcv_alpha_best - 0.01))\n",
    "print(compute_gcv(X, y, gcv_alpha_best))\n",
    "print(compute_gcv(X, y, gcv_alpha_best + 0.01))"
   ]
  },
  {
   "cell_type": "code",
   "execution_count": 10,
   "metadata": {},
   "outputs": [
    {
     "name": "stdout",
     "output_type": "stream",
     "text": [
      "1631.3586290652643\n",
      "1631.3585649228833\n",
      "1631.3586289531474\n"
     ]
    }
   ],
   "source": [
    "print(compute_loocv(X, y, loocv_alpha_best - 0.01))\n",
    "print(compute_loocv(X, y, loocv_alpha_best))\n",
    "print(compute_loocv(X, y, loocv_alpha_best + 0.01))"
   ]
  },
  {
   "cell_type": "markdown",
   "metadata": {},
   "source": [
    "## Plot the LOOCV error for different values of alpha"
   ]
  },
  {
   "cell_type": "code",
   "execution_count": 11,
   "metadata": {},
   "outputs": [],
   "source": [
    "alphas = np.arange(0.1, 20, .1)\n",
    "loocv_scores = [compute_loocv(X, y, alpha) for alpha in alphas]\n",
    "gcv_scores = [compute_gcv(X, y, alpha) for alpha in alphas]"
   ]
  },
  {
   "cell_type": "code",
   "execution_count": 12,
   "metadata": {},
   "outputs": [
    {
     "data": {
      "text/plain": [
       "<matplotlib.legend.Legend at 0x7fdbc0b169d0>"
      ]
     },
     "execution_count": 12,
     "metadata": {},
     "output_type": "execute_result"
    },
    {
     "data": {
      "image/png": "[encoded data removed]",
      "text/plain": [
       "<Figure size 432x288 with 1 Axes>"
      ]
     },
     "metadata": {
      "needs_background": "light"
     },
     "output_type": "display_data"
    }
   ],
   "source": [
    "plt.xlabel('Alpha')\n",
    "plt.ylabel('Mean Squared Error')\n",
    "plt.plot(alphas, loocv_scores, label='LOOCV')\n",
    "plt.axvline(loocv_alpha_best, color='tab:green', label='LOOCV Alpha Best')\n",
    "plt.plot(alphas, gcv_scores, label='GCV')\n",
    "plt.axvline(gcv_alpha_best, color='tab:red', label='GCV Alpha Best')\n",
    "plt.title('CV Error on Pollution Dataset')\n",
    "plt.legend(loc='upper right')"
   ]
  },
  {
   "cell_type": "code",
   "execution_count": 13,
   "metadata": {},
   "outputs": [
    {
     "name": "stdout",
     "output_type": "stream",
     "text": [
      "8.437006486935175 8.437006486935175\n",
      "-1631.3585649228744 1631.3585649228833\n"
     ]
    }
   ],
   "source": [
    "model = RidgeCV(list(alphas) + [loocv_alpha_best, gcv_alpha_best])\n",
    "model.fit(X, y)\n",
    "print(model.alpha_, loocv_alpha_best)\n",
    "print(model.best_score_, compute_loocv(X, y, loocv_alpha_best))"
   ]
  },
  {
   "cell_type": "code",
   "execution_count": null,
   "metadata": {},
   "outputs": [],
   "source": []
  }
 ],
 "metadata": {
  "kernelspec": {
   "display_name": "Python 3",
   "language": "python",
   "name": "python3"
  },
  "language_info": {
   "codemirror_mode": {
    "name": "ipython",
    "version": 3
   },
   "file_extension": ".py",
   "mimetype": "text/x-python",
   "name": "python",
   "nbconvert_exporter": "python",
   "pygments_lexer": "ipython3",
   "version": "3.7.5"
  }
 },
 "nbformat": 4,
 "nbformat_minor": 4
}
