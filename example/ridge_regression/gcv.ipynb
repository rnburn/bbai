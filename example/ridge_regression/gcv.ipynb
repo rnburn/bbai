{
 "cells": [
  {
   "cell_type": "markdown",
   "metadata": {},
   "source": [
    "# Generalized Cross-Validation Experiment\n",
    "*This notebook runs an experiment to compare the performance of ridge regression when set using different cross-validation metrics.*"
   ]
  },
  {
   "cell_type": "markdown",
   "metadata": {},
   "source": [
    "## Import dependencies"
   ]
  },
  {
   "cell_type": "code",
   "execution_count": 1,
   "metadata": {},
   "outputs": [],
   "source": [
    "import numpy as np\n",
    "import scipy\n",
    "from collections import defaultdict\n",
    "import peak_engines\n",
    "from sklearn.metrics import mean_squared_error\n",
    "from sklearn.linear_model import LinearRegression\n",
    "from sklearn.model_selection import train_test_split\n",
    "import matplotlib.pyplot as plt"
   ]
  },
  {
   "cell_type": "markdown",
   "metadata": {},
   "source": [
    "## Set up simulation"
   ]
  },
  {
   "cell_type": "code",
   "execution_count": 2,
   "metadata": {},
   "outputs": [],
   "source": [
    "p = 0.1\n",
    "k = 5\n",
    "beta = np.array([10, 0, 1, -0.01, 0.1])\n",
    "sigma = 1.0"
   ]
  },
  {
   "cell_type": "code",
   "execution_count": 3,
   "metadata": {},
   "outputs": [],
   "source": [
    "def generate_data(n):\n",
    "    X = np.random.binomial(1, p, size=(n, k))\n",
    "    y = np.dot(X, beta) + np.random.normal(0, sigma, size=n)\n",
    "    return X, y"
   ]
  },
  {
   "cell_type": "code",
   "execution_count": 4,
   "metadata": {},
   "outputs": [],
   "source": [
    "def validate_models(models, n, num_trials):\n",
    "    result = defaultdict(list)\n",
    "    for _ in range(num_trials):\n",
    "        X, y = generate_data(n+2000)\n",
    "        X_train, X_test, y_train, y_test = \\\n",
    "            train_test_split(X, y, train_size=n, shuffle=False)\n",
    "        for name, model in models:\n",
    "            model.fit(X_train, y_train)\n",
    "            y_pred = model.predict(X_test)\n",
    "            result[name].append(mean_squared_error(y_test, y_pred))\n",
    "    return result\n",
    "\n",
    "def run_simulation(models, train_sizes, num_trials):\n",
    "    result = defaultdict(lambda: defaultdict(list))\n",
    "    for n in train_sizes:\n",
    "        for name, errors in validate_models(models, n, num_trials).items():\n",
    "            mean = np.mean(errors)\n",
    "            stddev = np.std(errors, ddof=1)\n",
    "            interval = scipy.stats.t.interval(alpha=0.95, df=num_trials-1, scale=stddev/np.sqrt(num_trials))\n",
    "            result[name]['mean'].append(mean)\n",
    "            result[name]['error_bar'].append(interval[1])\n",
    "    return result"
   ]
  },
  {
   "cell_type": "markdown",
   "metadata": {},
   "source": [
    "## Run simulation"
   ]
  },
  {
   "cell_type": "code",
   "execution_count": 5,
   "metadata": {},
   "outputs": [
    {
     "data": {
      "image/png": "[encoded data removed]",
      "text/plain": [
       "<Figure size 432x288 with 1 Axes>"
      ]
     },
     "metadata": {
      "needs_background": "light"
     },
     "output_type": "display_data"
    }
   ],
   "source": [
    "np.random.seed(0)\n",
    "models = [\n",
    "    ('RR-LOOCV', peak_engines.RidgeRegressionModel(score='loocv')),\n",
    "        # Set ridge regression's regularizer so as to minimize the error of the \n",
    "        # leave-one-out cross-validation of the training data\n",
    "    ('RR-GCV', peak_engines.RidgeRegressionModel(score='gcv')),\n",
    "        # Set ridge regression's regularizer so as to minimize the error of the\n",
    "        # generalized cross-validation of the training data\n",
    "]\n",
    "train_sizes = [12, 15, 17, 20, 22, 25, 30]\n",
    "num_trials = 1000\n",
    "simulation_results = run_simulation(models, train_sizes, num_trials)\n",
    "\n",
    "for name, simulation_result in simulation_results.items():\n",
    "    plt.errorbar(train_sizes, \n",
    "                 simulation_result['mean'], \n",
    "                 yerr=simulation_result['error_bar'], \n",
    "                 label=name)\n",
    "plt.legend(loc='upper right')\n",
    "plt.xlabel('Train Size (n)')\n",
    "plt.ylabel('Mean MSE')\n",
    "plt.show()"
   ]
  },
  {
   "cell_type": "code",
   "execution_count": null,
   "metadata": {},
   "outputs": [],
   "source": []
  }
 ],
 "metadata": {
  "kernelspec": {
   "display_name": "Python 3",
   "language": "python",
   "name": "python3"
  },
  "language_info": {
   "codemirror_mode": {
    "name": "ipython",
    "version": 3
   },
   "file_extension": ".py",
   "mimetype": "text/x-python",
   "name": "python",
   "nbconvert_exporter": "python",
   "pygments_lexer": "ipython3",
   "version": "3.7.5"
  }
 },
 "nbformat": 4,
 "nbformat_minor": 4
}
