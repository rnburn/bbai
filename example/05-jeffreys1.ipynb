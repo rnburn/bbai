{
 "cells": [
  {
   "cell_type": "markdown",
   "metadata": {},
   "source": [
    "Fit a single variable logistic regression model with Jeffreys prior\n",
    "to simulated data. Plot out both the prior and posterior distributions."
   ]
  },
  {
   "cell_type": "code",
   "execution_count": 1,
   "metadata": {},
   "outputs": [],
   "source": [
    "import numpy as np\n",
    "import matplotlib.pyplot as plt\n",
    "import scipy.integrate as integrate\n",
    "\n",
    "from bbai.glm import LogisticRegressionMAP"
   ]
  },
  {
   "cell_type": "markdown",
   "metadata": {},
   "source": [
    "## Generate Dataset"
   ]
  },
  {
   "cell_type": "code",
   "execution_count": 2,
   "metadata": {},
   "outputs": [],
   "source": [
    "def generate_correlation_matrix(p, param):\n",
    "    res = np.zeros(shape=(p, p))\n",
    "    for s in range(p):\n",
    "        for t in range(0, s+1):\n",
    "            corr = param\n",
    "            if s == t:\n",
    "                corr = 1.0\n",
    "            res[s, t] = corr\n",
    "            res[t, s] = corr\n",
    "    return res\n",
    "\n",
    "def generate_design_matrix(n, K):\n",
    "    mean = np.zeros(K.shape[0])\n",
    "    return np.random.multivariate_normal(mean, K, size=n)\n",
    "\n",
    "def generate_weights(p):\n",
    "    return np.random.normal(size=p)\n",
    "\n",
    "def generate_data_set(n, K):\n",
    "    p = K.shape[0]\n",
    "    X = generate_design_matrix(n, K)\n",
    "    w = generate_weights(p)\n",
    "\n",
    "    u = np.dot(X, w)\n",
    "\n",
    "    p = 1 / (1 + np.exp(-u))\n",
    "\n",
    "    y = []\n",
    "    for i in range(n):\n",
    "        y.append(np.random.binomial(1, p[i]))\n",
    "    y = np.array(y)\n",
    "\n",
    "    return X, y, w"
   ]
  },
  {
   "cell_type": "markdown",
   "metadata": {},
   "source": [
    "## Compute Jeffreys Prior"
   ]
  },
  {
   "cell_type": "code",
   "execution_count": 3,
   "metadata": {},
   "outputs": [],
   "source": [
    "def compute_a_matrix(X, u):\n",
    "    p_vector = 1 / (1 + np.exp(u))\n",
    "    return np.diag(p_vector * (1 - p_vector))\n",
    "\n",
    "def compute_fisher_information_matrix(X, u):\n",
    "    A = compute_a_matrix(X, u)\n",
    "    return np.dot(X.T, np.dot(A, X))\n",
    "\n",
    "def compute_log_prior(X, u):\n",
    "    FIM = compute_fisher_information_matrix(X, u)\n",
    "    return 0.5 * np.linalg.slogdet(FIM)[1]"
   ]
  },
  {
   "cell_type": "markdown",
   "metadata": {},
   "source": [
    "## Compute Posterior"
   ]
  },
  {
   "cell_type": "code",
   "execution_count": 4,
   "metadata": {},
   "outputs": [],
   "source": [
    "def compute_log_posterior(X, y, w):\n",
    "    u = np.dot(X, w)\n",
    "    log_prior = compute_log_prior(X, u)\n",
    "    y = 2 * y - 1\n",
    "    likelihood = -np.sum(np.log(1 + np.exp(-y * u)))\n",
    "    return likelihood + log_prior"
   ]
  },
  {
   "cell_type": "markdown",
   "metadata": {},
   "source": [
    "## Plot Distributions"
   ]
  },
  {
   "cell_type": "code",
   "execution_count": 5,
   "metadata": {},
   "outputs": [],
   "source": [
    "np.random.seed(0)\n",
    "\n",
    "n = 20\n",
    "p = 1\n",
    "\n",
    "K = generate_correlation_matrix(p, 0.5)\n",
    "X, y, w_true = generate_data_set(n, K)"
   ]
  },
  {
   "cell_type": "code",
   "execution_count": 6,
   "metadata": {},
   "outputs": [],
   "source": [
    "wx = np.arange(-20, 20, 0.1)"
   ]
  },
  {
   "cell_type": "markdown",
   "metadata": {},
   "source": [
    "### Prior"
   ]
  },
  {
   "cell_type": "code",
   "execution_count": 7,
   "metadata": {},
   "outputs": [],
   "source": [
    "def f_prior(w):\n",
    "    u = np.dot(X, np.array([w]))\n",
    "    return np.exp(compute_log_prior(X, u))"
   ]
  },
  {
   "cell_type": "code",
   "execution_count": 8,
   "metadata": {},
   "outputs": [
    {
     "data": {
      "image/png": "[encoded data removed]",
      "text/plain": [
       "<Figure size 432x288 with 1 Axes>"
      ]
     },
     "metadata": {
      "needs_background": "light"
     },
     "output_type": "display_data"
    }
   ],
   "source": [
    "Z,_ = integrate.quad(f_prior, -100, 100)\n",
    "yx = [f_prior(w)/Z for w in wx]\n",
    "plt.plot(wx, yx)\n",
    "plt.xlabel('w')\n",
    "plt.ylabel('Probability')\n",
    "plt.show()"
   ]
  },
  {
   "cell_type": "markdown",
   "metadata": {},
   "source": [
    "### Posterior"
   ]
  },
  {
   "cell_type": "code",
   "execution_count": 9,
   "metadata": {},
   "outputs": [
    {
     "name": "stdout",
     "output_type": "stream",
     "text": [
      "w_true = -2.5529898158340787\n",
      "w_map =  -3.139874975387916\n"
     ]
    }
   ],
   "source": [
    "model = LogisticRegressionMAP(fit_intercept=False)\n",
    "model.fit(X, y)\n",
    "w_map = model.coef_[0]\n",
    "print('w_true =', w_true[0])\n",
    "print('w_map = ', w_map[0])"
   ]
  },
  {
   "cell_type": "code",
   "execution_count": 10,
   "metadata": {},
   "outputs": [],
   "source": [
    "def f_posterior(w):\n",
    "    return np.exp(compute_log_posterior(X, y, np.array([w])))"
   ]
  },
  {
   "cell_type": "code",
   "execution_count": 11,
   "metadata": {},
   "outputs": [
    {
     "data": {
      "image/png": "[encoded data removed]",
      "text/plain": [
       "<Figure size 432x288 with 1 Axes>"
      ]
     },
     "metadata": {
      "needs_background": "light"
     },
     "output_type": "display_data"
    }
   ],
   "source": [
    "Z,_ = integrate.quad(f_posterior, -100, 100)\n",
    "yx = [f_posterior(w)/Z for w in wx]\n",
    "plt.plot(wx, yx)\n",
    "plt.xlabel('w')\n",
    "plt.axvline(x=w_map[0], color='red', label='w_map')\n",
    "plt.ylabel('Probability')\n",
    "plt.legend()\n",
    "plt.show()"
   ]
  },
  {
   "cell_type": "code",
   "execution_count": null,
   "metadata": {},
   "outputs": [],
   "source": []
  }
 ],
 "metadata": {
  "kernelspec": {
   "display_name": "Python 3",
   "language": "python",
   "name": "python3"
  },
  "language_info": {
   "codemirror_mode": {
    "name": "ipython",
    "version": 3
   },
   "file_extension": ".py",
   "mimetype": "text/x-python",
   "name": "python",
   "nbconvert_exporter": "python",
   "pygments_lexer": "ipython3",
   "version": "3.6.9"
  }
 },
 "nbformat": 4,
 "nbformat_minor": 4
}
