{
 "cells": [
  {
   "cell_type": "code",
   "execution_count": 1,
   "metadata": {},
   "outputs": [],
   "source": [
    "import numpy as np\n",
    "import scipy\n",
    "from sklearn.datasets import load_iris\n",
    "from sklearn.linear_model import LogisticRegression\n",
    "from sklearn.model_selection import LeaveOneOut\n",
    "from sklearn.metrics import log_loss\n",
    "from sklearn.preprocessing import StandardScaler\n",
    "from matplotlib import pyplot as plt"
   ]
  },
  {
   "cell_type": "code",
   "execution_count": 2,
   "metadata": {},
   "outputs": [],
   "source": [
    "X, y = load_iris(return_X_y=True)\n",
    "X = StandardScaler().fit_transform(X)\n",
    "n = X.shape[0]\n",
    "X = np.hstack((X, np.ones((n, 1))))\n",
    "p = X.shape[1]"
   ]
  },
  {
   "cell_type": "code",
   "execution_count": 3,
   "metadata": {},
   "outputs": [],
   "source": [
    "def compute_u_vector(xi, w):\n",
    "    p = len(xi)\n",
    "    num_classes = len(w) // len(xi)\n",
    "    result = np.zeros(num_classes)\n",
    "    for k in range(num_classes):\n",
    "        wk = w[p*k:p*(k+1)]\n",
    "        result[k] = np.dot(wk, xi)\n",
    "    return result"
   ]
  },
  {
   "cell_type": "code",
   "execution_count": 4,
   "metadata": {},
   "outputs": [],
   "source": [
    "def compute_loss(yi, u_vector):\n",
    "    exp_u_vector = np.exp(u_vector)\n",
    "    return -(u_vector[yi] - np.log(np.sum(exp_u_vector)))"
   ]
  },
  {
   "cell_type": "markdown",
   "metadata": {},
   "source": [
    "## Gradient"
   ]
  },
  {
   "cell_type": "code",
   "execution_count": 5,
   "metadata": {},
   "outputs": [],
   "source": [
    "def compute_loss_gradient(xi, yi, w):\n",
    "    p = len(xi)\n",
    "    num_classes = len(w) // p\n",
    "    u_vector = compute_u_vector(xi, w)\n",
    "    exp_u_vector = np.exp(u_vector)\n",
    "    normalizer = np.sum(exp_u_vector)\n",
    "    result = np.zeros(num_classes)\n",
    "    for k in range(num_classes):\n",
    "        result[k] = float(k == yi) - exp_u_vector[k] / normalizer\n",
    "    return -result"
   ]
  },
  {
   "cell_type": "markdown",
   "metadata": {},
   "source": [
    "## Hessian"
   ]
  },
  {
   "cell_type": "code",
   "execution_count": 6,
   "metadata": {},
   "outputs": [],
   "source": [
    "def compute_loss_hessian(xi, yi, w):\n",
    "    p = len(xi)\n",
    "    num_classes = len(w) // p\n",
    "    u_vector = compute_u_vector(xi, w)\n",
    "    exp_u_vector = np.exp(u_vector)\n",
    "    normalizer = np.sum(exp_u_vector)\n",
    "    result = np.zeros((num_classes, num_classes))\n",
    "    for k1 in range(num_classes):\n",
    "        for k2 in range(k1 + 1):\n",
    "            result[k1, k2] = exp_u_vector[k1]*exp_u_vector[k2] / normalizer**2\n",
    "            if k1 == k2:\n",
    "                result[k1, k2] -= exp_u_vector[k1] / normalizer\n",
    "            result[k2, k1] = result[k1, k2]\n",
    "    return -result"
   ]
  },
  {
   "cell_type": "code",
   "execution_count": 7,
   "metadata": {},
   "outputs": [],
   "source": [
    "def compute_hessian(X, y, w, C):\n",
    "    p = X.shape[1]\n",
    "    num_classes = len(w) // X.shape[1]\n",
    "    result = np.zeros((len(w), len(w)))\n",
    "    for i, (xi, yi) in enumerate(zip(X, y)):\n",
    "        loss_hess = compute_loss_hessian(xi, yi, w)\n",
    "        for index1 in range(len(w)):\n",
    "            for index2 in range(index1+1):\n",
    "                k1 = index1 // p\n",
    "                j1 = index1 % p\n",
    "                k2 = index2 // p\n",
    "                j2 = index2 % p\n",
    "                result[index1, index2] += loss_hess[k1, k2]*xi[j1]*xi[j2]\n",
    "                result[index2, index1] = result[index1, index2]\n",
    "    alpha = 1 / (2*C)\n",
    "    for index in range(len(w)):\n",
    "        result[index, index] += 2*alpha\n",
    "    return result"
   ]
  },
  {
   "cell_type": "markdown",
   "metadata": {},
   "source": [
    "## ALO"
   ]
  },
  {
   "cell_type": "code",
   "execution_count": 8,
   "metadata": {},
   "outputs": [],
   "source": [
    "def compute_Z_i(xi, num_classes):\n",
    "    p = len(xi)\n",
    "    result = np.zeros((p*num_classes, num_classes))\n",
    "    for k in range(num_classes):\n",
    "        result[p*k:p*(k+1), k] = xi\n",
    "    return result"
   ]
  },
  {
   "cell_type": "code",
   "execution_count": 9,
   "metadata": {},
   "outputs": [],
   "source": [
    "def compute_K_i(L, xi, num_classes):\n",
    "    Z_i = compute_Z_i(xi, num_classes)\n",
    "    T_i = scipy.linalg.solve_triangular(L, Z_i, lower=True)\n",
    "    return np.dot(T_i.T, T_i)"
   ]
  },
  {
   "cell_type": "code",
   "execution_count": 10,
   "metadata": {},
   "outputs": [],
   "source": [
    "def compute_u_mi_vector(L, xi, yi, w):\n",
    "    num_classes = len(w) // len(xi)\n",
    "    loss_grad = compute_loss_gradient(xi, yi, w)\n",
    "    loss_hess = compute_loss_hessian(xi, yi, w)\n",
    "    u_i = compute_u_vector(xi, w)\n",
    "    K_i = compute_K_i(L, xi, num_classes)\n",
    "    inner = np.identity(num_classes) - np.dot(loss_hess, K_i)\n",
    "    \n",
    "    delta_vector = np.linalg.solve(inner, loss_grad)\n",
    "    delta_vector = np.dot(K_i, delta_vector)\n",
    "    \n",
    "    return u_i + delta_vector"
   ]
  },
  {
   "cell_type": "code",
   "execution_count": 11,
   "metadata": {},
   "outputs": [],
   "source": [
    "def compute_alo(X, y, C):\n",
    "    w = LogisticRegression(fit_intercept=False, C=C).fit(X, y).coef_.flatten()\n",
    "    H = compute_hessian(X, y, w, C)\n",
    "    L = np.linalg.cholesky(H)\n",
    "    num_classes = len(w) // X.shape[1]\n",
    "    result = 0\n",
    "    for i, (xi, yi) in enumerate(zip(X, y)):\n",
    "        u_mi_vector = compute_u_mi_vector(L, xi, yi, w)\n",
    "        result += -compute_loss(yi, u_mi_vector)\n",
    "    return result / len(y)"
   ]
  },
  {
   "cell_type": "markdown",
   "metadata": {},
   "source": [
    "## LO"
   ]
  },
  {
   "cell_type": "code",
   "execution_count": 12,
   "metadata": {},
   "outputs": [],
   "source": [
    "def compute_lo(X, y, C):\n",
    "    model = LogisticRegression(fit_intercept=False, C=C)\n",
    "    result = 0\n",
    "    labels = np.array(set(y))\n",
    "    for train_indexes, test_indexes in LeaveOneOut().split(X):\n",
    "        X_train = X[train_indexes]\n",
    "        y_train = y[train_indexes]\n",
    "        X_test = X[test_indexes]\n",
    "        y_test = y[test_indexes]\n",
    "        model.fit(X_train, y_train)\n",
    "        pred = model.predict_log_proba(X_test)[0]\n",
    "        result += pred[y_test[0]]\n",
    "    return result / len(y)"
   ]
  },
  {
   "cell_type": "markdown",
   "metadata": {},
   "source": [
    "## Testing"
   ]
  },
  {
   "cell_type": "code",
   "execution_count": 13,
   "metadata": {},
   "outputs": [],
   "source": [
    "alphas = np.arange(0.001, .05, 0.001)\n",
    "alos = [compute_alo(X, y, 1 / (2*alpha)) for alpha in alphas]\n",
    "los = [compute_lo(X, y, 1/(2*alpha)) for alpha in alphas]"
   ]
  },
  {
   "cell_type": "code",
   "execution_count": 14,
   "metadata": {},
   "outputs": [
    {
     "data": {
      "text/plain": [
       "<matplotlib.legend.Legend at 0x7fab1486df90>"
      ]
     },
     "execution_count": 14,
     "metadata": {},
     "output_type": "execute_result"
    },
    {
     "data": {
      "image/png": "[encoded data removed]",
      "text/plain": [
       "<Figure size 432x288 with 1 Axes>"
      ]
     },
     "metadata": {
      "needs_background": "light"
     },
     "output_type": "display_data"
    }
   ],
   "source": [
    "plt.plot(alphas, alos, label='ALO')\n",
    "plt.plot(alphas, los, label='LO')\n",
    "plt.legend()"
   ]
  },
  {
   "cell_type": "code",
   "execution_count": null,
   "metadata": {},
   "outputs": [],
   "source": []
  }
 ],
 "metadata": {
  "kernelspec": {
   "display_name": "Python 3",
   "language": "python",
   "name": "python3"
  },
  "language_info": {
   "codemirror_mode": {
    "name": "ipython",
    "version": 3
   },
   "file_extension": ".py",
   "mimetype": "text/x-python",
   "name": "python",
   "nbconvert_exporter": "python",
   "pygments_lexer": "ipython3",
   "version": "3.7.5"
  }
 },
 "nbformat": 4,
 "nbformat_minor": 2
}
