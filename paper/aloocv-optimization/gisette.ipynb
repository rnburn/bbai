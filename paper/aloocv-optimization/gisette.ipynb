{
 "cells": [
  {
   "cell_type": "markdown",
   "metadata": {},
   "source": [
    "# Fit Models Using ALO Optimization on Gisette Data Set"
   ]
  },
  {
   "cell_type": "markdown",
   "metadata": {},
   "source": [
    "*This notebook builds regularization logistic regression models on the Gisette data set using ALO optimization. It uses several different classes of regularizers.*"
   ]
  },
  {
   "cell_type": "markdown",
   "metadata": {},
   "source": [
    "## Import Dependencies"
   ]
  },
  {
   "cell_type": "code",
   "execution_count": 1,
   "metadata": {},
   "outputs": [],
   "source": [
    "import peak_engines\n",
    "from sklearn.linear_model import LogisticRegressionCV\n",
    "from sklearn.preprocessing import StandardScaler\n",
    "from sklearn.metrics import log_loss\n",
    "from sklearn.datasets import load_breast_cancer\n",
    "from sklearn.model_selection import KFold\n",
    "import numpy as np\n",
    "import pandas as pd\n",
    "import warnings; warnings.simplefilter('ignore')"
   ]
  },
  {
   "cell_type": "markdown",
   "metadata": {},
   "source": [
    "## Run Cross Validation"
   ]
  },
  {
   "cell_type": "code",
   "execution_count": 2,
   "metadata": {},
   "outputs": [],
   "source": [
    "def compute_cv(model, to_hyper_str, X, y):\n",
    "    cv = KFold(n_splits=5, shuffle=True, random_state=0)\n",
    "    scores = []\n",
    "    for train_indexes, test_indexes in cv.split(X):\n",
    "        X_train = X[train_indexes, :]\n",
    "        y_train = y[train_indexes]\n",
    "        X_test = X[test_indexes, :]\n",
    "        y_test = y[test_indexes]\n",
    "        scaler = StandardScaler()\n",
    "        X_train = scaler.fit_transform(X_train)\n",
    "        X_test = scaler.transform(X_test)\n",
    "        model.fit(X_train, y_train)\n",
    "        pred = model.predict_proba(X_test)\n",
    "        score = -log_loss(y_test, pred)\n",
    "        print(to_hyper_str(model), score)\n",
    "        scores.append(score)\n",
    "    print(\"mean\", np.mean(scores))"
   ]
  },
  {
   "cell_type": "markdown",
   "metadata": {},
   "source": [
    "## Load Gisette Data Set"
   ]
  },
  {
   "cell_type": "code",
   "execution_count": 3,
   "metadata": {},
   "outputs": [],
   "source": [
    "url_X_train = 'https://archive.ics.uci.edu/ml/machine-learning-databases/gisette/GISETTE/gisette_train.data'\n",
    "url_y_train = 'https://archive.ics.uci.edu/ml/machine-learning-databases/gisette/GISETTE/gisette_train.labels'\n",
    "url_X_valid = 'https://archive.ics.uci.edu/ml/machine-learning-databases/gisette/GISETTE/gisette_valid.data'\n",
    "url_y_valid = 'https://archive.ics.uci.edu/ml/machine-learning-databases/gisette/gisette_valid.labels'\n",
    "X_train = pd.read_csv(url_X_train, delim_whitespace=True, header=None).iloc[:,:].values\n",
    "y_train = pd.read_csv(url_y_train, delim_whitespace=True, header=None).iloc[:,0].values\n",
    "X_valid = pd.read_csv(url_X_valid, delim_whitespace=True, header=None).iloc[:,:].values\n",
    "y_valid = pd.read_csv(url_y_valid, delim_whitespace=True, header=None).iloc[:,0].values\n",
    "X = np.vstack((X_train, X_valid))\n",
    "y = np.concatenate((y_train, y_valid))"
   ]
  },
  {
   "cell_type": "markdown",
   "metadata": {},
   "source": [
    "## Build Models"
   ]
  },
  {
   "cell_type": "markdown",
   "metadata": {},
   "source": [
    "### Grid Search"
   ]
  },
  {
   "cell_type": "code",
   "execution_count": 4,
   "metadata": {},
   "outputs": [
    {
     "name": "stdout",
     "output_type": "stream",
     "text": [
      "10.772173450159421 -0.07141330300734189\n",
      "10.772173450159421 -0.05860679105760188\n",
      "10.772173450159421 -0.06974745365248325\n",
      "10.772173450159421 -0.07259035146418859\n",
      "10.772173450159421 -0.0669355350350212\n",
      "mean -0.06785868684332737\n"
     ]
    }
   ],
   "source": [
    "model = LogisticRegressionCV(random_state=0, scoring='neg_log_loss')\n",
    "to_hyper_str = lambda model: str(1/(2*model.C_[0]))\n",
    "compute_cv(model, to_hyper_str, X, y)"
   ]
  },
  {
   "cell_type": "markdown",
   "metadata": {},
   "source": [
    "### Ridge Regularization"
   ]
  },
  {
   "cell_type": "code",
   "execution_count": 5,
   "metadata": {},
   "outputs": [
    {
     "name": "stdout",
     "output_type": "stream",
     "text": [
      "19.125168179845378 -0.07091119288281082\n",
      "18.657674666781162 -0.05869256428746778\n",
      "18.264972939868283 -0.06970706513727046\n",
      "16.48213583423184 -0.07143037658300683\n",
      "14.35124635778496 -0.06667426040993736\n",
      "mean -0.06748309186009865\n"
     ]
    }
   ],
   "source": [
    "model = peak_engines.LogisticRegressionModel()\n",
    "to_hyper_str = lambda model: str(1/(2*model.C_[0]))\n",
    "compute_cv(model, to_hyper_str, X, y)"
   ]
  },
  {
   "cell_type": "markdown",
   "metadata": {},
   "source": [
    "### Bridge Regularization"
   ]
  },
  {
   "cell_type": "code",
   "execution_count": 6,
   "metadata": {},
   "outputs": [
    {
     "name": "stdout",
     "output_type": "stream",
     "text": [
      "[17.2634409704122, 1.947447741452002] -0.06979763706313755\n",
      "[16.787588530291675, 1.9435606478793317] -0.0580893310494714\n",
      "[12.952675285512477, 1.8068898578625712] -0.06667017379085097\n",
      "[10.543638008653765, 1.7527586105928714] -0.06772661499352636\n",
      "[10.771891713285207, 1.828397324061291] -0.06387877783012405\n",
      "mean -0.06523250694542207\n"
     ]
    }
   ],
   "source": [
    "model = peak_engines.LogisticRegressionModel(penalty='bridge')\n",
    "to_hyper_str = lambda model: str([model.hyperparameters_[0]**2, 1 + model.hyperparameters_[1]**2])\n",
    "compute_cv(model, to_hyper_str, X, y)"
   ]
  },
  {
   "cell_type": "code",
   "execution_count": null,
   "metadata": {},
   "outputs": [],
   "source": []
  }
 ],
 "metadata": {
  "kernelspec": {
   "display_name": "Python 3",
   "language": "python",
   "name": "python3"
  },
  "language_info": {
   "codemirror_mode": {
    "name": "ipython",
    "version": 3
   },
   "file_extension": ".py",
   "mimetype": "text/x-python",
   "name": "python",
   "nbconvert_exporter": "python",
   "pygments_lexer": "ipython3",
   "version": "3.7.5"
  }
 },
 "nbformat": 4,
 "nbformat_minor": 4
}
