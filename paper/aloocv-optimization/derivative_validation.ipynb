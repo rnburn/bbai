{
 "cells": [
  {
   "cell_type": "markdown",
   "metadata": {},
   "source": [
    "# Validate ALO Derivatives"
   ]
  },
  {
   "cell_type": "markdown",
   "metadata": {},
   "source": [
    "*This notebook uses finite differences to validate the gradient and hessian of ALO.*"
   ]
  },
  {
   "cell_type": "markdown",
   "metadata": {},
   "source": [
    "## Import Dependencies"
   ]
  },
  {
   "cell_type": "code",
   "execution_count": 1,
   "metadata": {},
   "outputs": [],
   "source": [
    "import peak_engines\n",
    "from sklearn.preprocessing import StandardScaler\n",
    "from sklearn.datasets import load_breast_cancer\n",
    "import numpy as np"
   ]
  },
  {
   "cell_type": "markdown",
   "metadata": {},
   "source": [
    "## Load a Data Set to Validate Against"
   ]
  },
  {
   "cell_type": "code",
   "execution_count": 2,
   "metadata": {},
   "outputs": [],
   "source": [
    "X, y = load_breast_cancer(return_X_y=True)\n",
    "X = StandardScaler().fit_transform(X)\n",
    "delta = 1.0e-5"
   ]
  },
  {
   "cell_type": "markdown",
   "metadata": {},
   "source": [
    "## Ridge Regularization\n",
    "Test logistic regression with a ridge regularizer."
   ]
  },
  {
   "cell_type": "code",
   "execution_count": 3,
   "metadata": {},
   "outputs": [],
   "source": [
    "objective = peak_engines.LogisticRegressionModel().impl_.make_objective(X, y)\n",
    "alpha = 2.5"
   ]
  },
  {
   "cell_type": "markdown",
   "metadata": {},
   "source": [
    "### Validate Gradient"
   ]
  },
  {
   "cell_type": "code",
   "execution_count": 4,
   "metadata": {},
   "outputs": [
    {
     "name": "stdout",
     "output_type": "stream",
     "text": [
      "9.023159877606496 9.019189140246908\n"
     ]
    }
   ],
   "source": [
    "g = objective.compute_gradient([alpha])\n",
    "g_approx = (objective.compute_value([alpha+delta]) - objective.compute_value([alpha])) / delta\n",
    "print(g[0], g_approx)"
   ]
  },
  {
   "cell_type": "markdown",
   "metadata": {},
   "source": [
    "### Validate Hessian"
   ]
  },
  {
   "cell_type": "code",
   "execution_count": 5,
   "metadata": {},
   "outputs": [
    {
     "name": "stdout",
     "output_type": "stream",
     "text": [
      "0.24116954853244 0.24161082023965716\n"
     ]
    }
   ],
   "source": [
    "H = objective.compute_hessian([alpha])\n",
    "H_approx = (objective.compute_gradient([alpha+delta]) - objective.compute_gradient([alpha])) / delta\n",
    "print(H[0,0], H_approx[0])"
   ]
  },
  {
   "cell_type": "markdown",
   "metadata": {},
   "source": [
    "## Bridge Regularization\n",
    "Test logistic regression with a bridge regularizer that requires multiple hyperparameters."
   ]
  },
  {
   "cell_type": "code",
   "execution_count": 6,
   "metadata": {},
   "outputs": [],
   "source": [
    "objective = peak_engines.LogisticRegressionModel(penalty='bridge').impl_.make_objective(X, y)\n",
    "alpha = 2.5\n",
    "beta = 1.25\n",
    "params = np.array([2.5, 1.25])"
   ]
  },
  {
   "cell_type": "markdown",
   "metadata": {},
   "source": [
    "### Validate Gradient"
   ]
  },
  {
   "cell_type": "code",
   "execution_count": 7,
   "metadata": {},
   "outputs": [
    {
     "name": "stdout",
     "output_type": "stream",
     "text": [
      "0 7.004190690732526 7.004206040761573\n",
      "1 -10.46313945114182 -10.463306814756379\n"
     ]
    }
   ],
   "source": [
    "g = objective.compute_gradient(params)\n",
    "g_approx = np.zeros(2)\n",
    "f0 = objective.compute_value(params)\n",
    "for j in range(2):\n",
    "    params_prime = np.array(params)\n",
    "    params_prime[j] += delta\n",
    "    g_approx[j] = (objective.compute_value(params_prime) - f0) / delta\n",
    "for j, (gj, g_approxj) in enumerate(zip(g, g_approx)):\n",
    "    print(j, gj, g_approxj)"
   ]
  },
  {
   "cell_type": "markdown",
   "metadata": {},
   "source": [
    "### Validate Hessian"
   ]
  },
  {
   "cell_type": "code",
   "execution_count": 8,
   "metadata": {},
   "outputs": [
    {
     "name": "stdout",
     "output_type": "stream",
     "text": [
      "0 0 0.2036221356205917 0.2036184313602973\n",
      "0 1 -8.337466000152448 -8.337484601916856\n",
      "1 0 -8.337466000152448 -8.337484601916856\n",
      "1 1 5.746497467334356 5.746726380273514\n"
     ]
    }
   ],
   "source": [
    "H = objective.compute_hessian(params)\n",
    "H_approx = np.zeros((2, 2))\n",
    "g0 = objective.compute_gradient(params)\n",
    "for j1 in range(2):\n",
    "    for j2 in range(j1+1):\n",
    "        params_prime = np.array(params)\n",
    "        params_prime[j2] += delta\n",
    "        g_prime = objective.compute_gradient(params_prime)\n",
    "        H_approx[j1, j2] = (g_prime[j1] - g0[j1]) / delta\n",
    "        H_approx[j2, j1] = H_approx[j1, j2]\n",
    "for j1 in range(2):\n",
    "    for j2 in range(2):\n",
    "        print(j1, j2, H[j1, j2], H_approx[j1, j2])"
   ]
  },
  {
   "cell_type": "code",
   "execution_count": null,
   "metadata": {},
   "outputs": [],
   "source": []
  }
 ],
 "metadata": {
  "kernelspec": {
   "display_name": "Python 3",
   "language": "python",
   "name": "python3"
  },
  "language_info": {
   "codemirror_mode": {
    "name": "ipython",
    "version": 3
   },
   "file_extension": ".py",
   "mimetype": "text/x-python",
   "name": "python",
   "nbconvert_exporter": "python",
   "pygments_lexer": "ipython3",
   "version": "3.7.5"
  }
 },
 "nbformat": 4,
 "nbformat_minor": 4
}
