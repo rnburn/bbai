{
 "cells": [
  {
   "cell_type": "markdown",
   "metadata": {},
   "source": [
    "# Validate Logistic Loss Equations"
   ]
  },
  {
   "cell_type": "markdown",
   "metadata": {},
   "source": [
    "*This notebook uses finite differences to validate the logistic loss equations.*"
   ]
  },
  {
   "cell_type": "markdown",
   "metadata": {},
   "source": [
    "## Import Dependencies"
   ]
  },
  {
   "cell_type": "code",
   "execution_count": 1,
   "metadata": {},
   "outputs": [],
   "source": [
    "import numpy as np\n",
    "from sklearn.linear_model import Ridge\n",
    "from sklearn.preprocessing import StandardScaler\n",
    "from sklearn.model_selection import LeaveOneOut\n",
    "from sklearn.datasets import load_boston\n",
    "from matplotlib import pyplot as plt\n",
    "import scipy\n",
    "from scipy.special import expit"
   ]
  },
  {
   "cell_type": "markdown",
   "metadata": {},
   "source": [
    "## Set Parameters"
   ]
  },
  {
   "cell_type": "code",
   "execution_count": 2,
   "metadata": {},
   "outputs": [],
   "source": [
    "delta = 1.0e-3\n",
    "n = 50\n",
    "alphas = np.arange(0.25, 2.5, 0.1)\n",
    "X, y = load_boston(return_X_y=True)\n",
    "X = X[:n]\n",
    "y = y[:n]\n",
    "X = StandardScaler().fit_transform(X)\n",
    "X = np.hstack((X, np.ones((X.shape[0], 1))))"
   ]
  },
  {
   "cell_type": "markdown",
   "metadata": {},
   "source": [
    "## Define Functions"
   ]
  },
  {
   "cell_type": "markdown",
   "metadata": {},
   "source": [
    "### loss"
   ]
  },
  {
   "cell_type": "code",
   "execution_count": 3,
   "metadata": {},
   "outputs": [],
   "source": [
    "def loss(y, u):\n",
    "    return (u - y)**2"
   ]
  },
  {
   "cell_type": "code",
   "execution_count": 4,
   "metadata": {},
   "outputs": [],
   "source": [
    "def loss1(y, u):\n",
    "    return 2*(u - y)"
   ]
  },
  {
   "cell_type": "markdown",
   "metadata": {},
   "source": [
    "### u_tilde"
   ]
  },
  {
   "cell_type": "code",
   "execution_count": 5,
   "metadata": {},
   "outputs": [],
   "source": [
    "def u_tilde(y, u, h):\n",
    "    return u + loss1(y, u) * h / (1 - 2*h)"
   ]
  },
  {
   "cell_type": "code",
   "execution_count": 6,
   "metadata": {},
   "outputs": [],
   "source": [
    "def u_tilde_du(y, u, h):\n",
    "    return 1 / (1 - 2*h)"
   ]
  },
  {
   "cell_type": "code",
   "execution_count": 7,
   "metadata": {},
   "outputs": [],
   "source": [
    "def u_tilde_dh(y, u, h):\n",
    "    return loss1(y, u) / (1 - 2*h)**2"
   ]
  },
  {
   "cell_type": "code",
   "execution_count": 8,
   "metadata": {},
   "outputs": [],
   "source": [
    "def u_tilde_du_dh(y, u, h):\n",
    "    return 2 / (1 - 2*h)**2"
   ]
  },
  {
   "cell_type": "code",
   "execution_count": 9,
   "metadata": {},
   "outputs": [],
   "source": [
    "def u_tilde_dh2(y, u, h):\n",
    "    return 4 * loss1(y, u) / (1 - 2*h)**3"
   ]
  },
  {
   "cell_type": "markdown",
   "metadata": {},
   "source": [
    "### l_tillde"
   ]
  },
  {
   "cell_type": "code",
   "execution_count": 10,
   "metadata": {},
   "outputs": [],
   "source": [
    "def l_tilde(y, u, h):\n",
    "    return loss(y, u_tilde(y, u, h))"
   ]
  },
  {
   "cell_type": "code",
   "execution_count": 11,
   "metadata": {},
   "outputs": [],
   "source": [
    "def l_tilde_du(y, u, h):\n",
    "    return loss1(y, u_tilde(y, u, h)) * u_tilde_du(y, u, h)"
   ]
  },
  {
   "cell_type": "code",
   "execution_count": 12,
   "metadata": {},
   "outputs": [],
   "source": [
    "def l_tilde_dh(y, u, h):\n",
    "    return loss1(y, u_tilde(y, u, h)) * u_tilde_dh(y, u, h)"
   ]
  },
  {
   "cell_type": "code",
   "execution_count": 13,
   "metadata": {},
   "outputs": [],
   "source": [
    "def l_tilde_du2(y, u, h):\n",
    "    t = u_tilde(y, u, h)\n",
    "    return 2 * u_tilde_du(y, u, h)**2"
   ]
  },
  {
   "cell_type": "code",
   "execution_count": 14,
   "metadata": {},
   "outputs": [],
   "source": [
    "def l_tilde_du_dh(y, u, h):\n",
    "    t = u_tilde(y, u, h)\n",
    "    term1 = loss1(y, t) * u_tilde_du_dh(y, u, h)\n",
    "    term2 = 2 * u_tilde_du(y, u, h) * u_tilde_dh(y, u, h)\n",
    "    return term1 + term2"
   ]
  },
  {
   "cell_type": "code",
   "execution_count": 15,
   "metadata": {},
   "outputs": [],
   "source": [
    "def l_tilde_dh2(y, u, h):\n",
    "    t = u_tilde(y, u, h)\n",
    "    term1 = loss1(y, t) * u_tilde_dh2(y, u, h)\n",
    "    term2 = 2 * u_tilde_dh(y, u, h)**2\n",
    "    return term1 + term2"
   ]
  },
  {
   "cell_type": "markdown",
   "metadata": {},
   "source": [
    "## ALO"
   ]
  },
  {
   "cell_type": "code",
   "execution_count": 16,
   "metadata": {},
   "outputs": [],
   "source": [
    "def fit_ridge_regression(X, y, alpha):\n",
    "    model = Ridge(alpha=alpha**2, fit_intercept=False)\n",
    "    model.fit(X, y)\n",
    "    return model.coef_"
   ]
  },
  {
   "cell_type": "code",
   "execution_count": 17,
   "metadata": {},
   "outputs": [],
   "source": [
    "def compute_hessian(X, y, u, alpha):\n",
    "    n, k = X.shape\n",
    "    H = 2 * np.dot(X.T, X)\n",
    "    for i in range(k):\n",
    "        H[i, i] += 2*alpha**2\n",
    "    return H"
   ]
  },
  {
   "cell_type": "code",
   "execution_count": 18,
   "metadata": {},
   "outputs": [],
   "source": [
    "def compute_h(X, L):\n",
    "    T = scipy.linalg.solve_triangular(L, X.T, lower=True)\n",
    "    result = np.array([np.dot(ti, ti) for ti in T.T])\n",
    "    return result"
   ]
  },
  {
   "cell_type": "code",
   "execution_count": 19,
   "metadata": {},
   "outputs": [],
   "source": [
    "def compute_alo(X, y, alpha):\n",
    "    beta_hat = fit_ridge_regression(X, y, alpha)\n",
    "    u_vector = np.dot(X, beta_hat)\n",
    "    H = compute_hessian(X, y, u_vector, alpha)\n",
    "    L = np.linalg.cholesky(H)\n",
    "    h = compute_h(X, L)\n",
    "    result = 0\n",
    "    for yi, ui, hi in zip(y, u_vector, h):\n",
    "        result += l_tilde(yi, ui, hi)\n",
    "    return result"
   ]
  },
  {
   "cell_type": "markdown",
   "metadata": {},
   "source": [
    "### Derivative"
   ]
  },
  {
   "cell_type": "code",
   "execution_count": 20,
   "metadata": {},
   "outputs": [],
   "source": [
    "def compute_beta_hat_derivative(L, alpha, beta_hat):\n",
    "    result = scipy.linalg.solve_triangular(L, beta_hat, lower=True)\n",
    "    result = scipy.linalg.solve_triangular(L.T, result, lower=False)\n",
    "    return -4 * alpha * result"
   ]
  },
  {
   "cell_type": "code",
   "execution_count": 21,
   "metadata": {},
   "outputs": [],
   "source": [
    "def compute_h_derivative(X, y, L, u, u_d, alpha):\n",
    "    T = scipy.linalg.solve_triangular(L, X.T, lower=True)\n",
    "    T = scipy.linalg.solve_triangular(L.T, T, lower=False)\n",
    "    result = [-4*alpha*np.dot(ti, ti) for ti in T.T]\n",
    "    return np.array(result)"
   ]
  },
  {
   "cell_type": "code",
   "execution_count": 22,
   "metadata": {},
   "outputs": [],
   "source": [
    "def compute_alo_derivative(X, y, alpha):\n",
    "    beta_hat = fit_ridge_regression(X, y, alpha)   \n",
    "    u = np.dot(X, beta_hat)\n",
    "    H = compute_hessian(X, y, u, alpha)\n",
    "    L = np.linalg.cholesky(H)\n",
    "    beta_hat_d = compute_beta_hat_derivative(L, alpha, beta_hat)\n",
    "    u_d = np.dot(X, beta_hat_d)\n",
    "    h = compute_h(X, L)\n",
    "    h_d = compute_h_derivative(X, y, L, u, u_d, alpha)\n",
    "    result = 0\n",
    "    for yi, ui, u_di, hi, h_di in zip(y, u, u_d, h, h_d):\n",
    "        result += l_tilde_du(yi, ui, hi) * u_di\n",
    "        result += l_tilde_dh(yi, ui, hi) * h_di\n",
    "    return result"
   ]
  },
  {
   "cell_type": "markdown",
   "metadata": {},
   "source": [
    "### Second Derivative"
   ]
  },
  {
   "cell_type": "code",
   "execution_count": 23,
   "metadata": {},
   "outputs": [],
   "source": [
    "def compute_beta_hat_derivative2(X, y, L, u, u_d, beta_hat, \n",
    "                                 beta_hat_d, alpha):\n",
    "    result = 8 * alpha * beta_hat_d\n",
    "    result += 4 * beta_hat\n",
    "    result = scipy.linalg.solve_triangular(L, result, lower=True)\n",
    "    return -scipy.linalg.solve_triangular(L.T, result, lower=False)"
   ]
  },
  {
   "cell_type": "code",
   "execution_count": 24,
   "metadata": {},
   "outputs": [],
   "source": [
    "def compute_h_derivative2(X, y, L, u, u_d, u_d2, alpha):\n",
    "    T = scipy.linalg.solve_triangular(L, X.T, lower=True)\n",
    "    T = scipy.linalg.solve_triangular(L.T, T, lower=False)\n",
    "    R = scipy.linalg.solve_triangular(L, T, lower=True)\n",
    "    result = [32*alpha**2*np.dot(ri, ri) - 4*np.dot(ti, ti) \\\n",
    "                 for ri, ti in zip(R.T, T.T)]\n",
    "    return np.array(result)"
   ]
  },
  {
   "cell_type": "code",
   "execution_count": 25,
   "metadata": {},
   "outputs": [],
   "source": [
    "def compute_alo_derivative2(X, y, alpha):\n",
    "    beta_hat = fit_ridge_regression(X, y, alpha)   \n",
    "    u = np.dot(X, beta_hat)\n",
    "    H = compute_hessian(X, y, u, alpha)\n",
    "    L = np.linalg.cholesky(H)\n",
    "    beta_hat_d = compute_beta_hat_derivative(L, alpha, beta_hat)\n",
    "    u_d = np.dot(X, beta_hat_d)\n",
    "    h = compute_h(X, L)\n",
    "    h_d = compute_h_derivative(X, y, L, u, u_d, alpha)\n",
    "    beta_hat_d2 = compute_beta_hat_derivative2(\n",
    "        X, y, L, u, u_d, beta_hat, beta_hat_d, alpha)\n",
    "    u_d2 = np.dot(X, beta_hat_d2)\n",
    "    h_d2 = compute_h_derivative2(X, y, L, u, u_d, u_d2, alpha)\n",
    "    result = 0\n",
    "    for yi, ui, u_di, u_d2i, hi, h_di, h_d2i in \\\n",
    "                        zip(y, u, u_d, u_d2, h, h_d, h_d2):\n",
    "        result += l_tilde_du(yi, ui, hi) * u_d2i\n",
    "        result += l_tilde_du2(yi, ui, hi) * u_di**2\n",
    "        result += 2*l_tilde_du_dh(yi, ui, hi) * u_di * h_di\n",
    "        result += l_tilde_dh(yi, ui, hi) * h_d2i\n",
    "        result += l_tilde_dh2(yi, ui, hi) * h_di**2\n",
    "    return result"
   ]
  },
  {
   "cell_type": "markdown",
   "metadata": {},
   "source": [
    "## LO"
   ]
  },
  {
   "cell_type": "code",
   "execution_count": 26,
   "metadata": {},
   "outputs": [],
   "source": [
    "def compute_lo(X, y, alpha):\n",
    "    model = Ridge(alpha=alpha**2, fit_intercept=False)\n",
    "    result = 0\n",
    "    values = sorted(list(set(y)))\n",
    "    for train_indexes, test_indexes in LeaveOneOut().split(X):\n",
    "        X_train = X[train_indexes]\n",
    "        X_test = X[test_indexes]\n",
    "        y_train = y[train_indexes]\n",
    "        y_test = y[test_indexes]\n",
    "        model.fit(X_train, y_train)\n",
    "        pred = model.predict(X_test)\n",
    "        result += (y_test[0] - pred[0])**2\n",
    "    return result"
   ]
  },
  {
   "cell_type": "markdown",
   "metadata": {},
   "source": [
    "## Validate"
   ]
  },
  {
   "cell_type": "code",
   "execution_count": 27,
   "metadata": {},
   "outputs": [],
   "source": [
    "los_prime = [compute_alo(X, y, alpha) for alpha in alphas]\n",
    "los = [compute_lo(X, y, alpha) for alpha in alphas]\n",
    "np.testing.assert_almost_equal(los_prime, los)"
   ]
  },
  {
   "cell_type": "code",
   "execution_count": 28,
   "metadata": {},
   "outputs": [
    {
     "data": {
      "text/plain": [
       "[<matplotlib.lines.Line2D at 0x7fe3ddfe3f90>]"
      ]
     },
     "execution_count": 28,
     "metadata": {},
     "output_type": "execute_result"
    },
    {
     "data": {
      "image/png": "[encoded data removed]",
      "text/plain": [
       "<Figure size 432x288 with 1 Axes>"
      ]
     },
     "metadata": {
      "needs_background": "light"
     },
     "output_type": "display_data"
    }
   ],
   "source": [
    "los = [compute_alo(X, y, alpha) for alpha in alphas]\n",
    "plt.plot(alphas, los)"
   ]
  },
  {
   "cell_type": "code",
   "execution_count": 29,
   "metadata": {},
   "outputs": [
    {
     "data": {
      "text/plain": [
       "<matplotlib.legend.Legend at 0x7fe3ddef4210>"
      ]
     },
     "execution_count": 29,
     "metadata": {},
     "output_type": "execute_result"
    },
    {
     "data": {
      "image/png": "[encoded data removed]",
      "text/plain": [
       "<Figure size 432x288 with 1 Axes>"
      ]
     },
     "metadata": {
      "needs_background": "light"
     },
     "output_type": "display_data"
    }
   ],
   "source": [
    "def d_approx(alpha):\n",
    "    f1 = compute_alo(X, y, alpha + delta)\n",
    "    f0 = compute_alo(X, y, alpha)\n",
    "    return (f1 - f0) / delta\n",
    "alo_ds_approx = [d_approx(alpha) for alpha in alphas]\n",
    "alo_ds = [compute_alo_derivative(X, y, alpha) for alpha in alphas]\n",
    "plt.plot(alphas, alo_ds, label='ALO_d', marker='o')\n",
    "plt.plot(alphas, alo_ds_approx, label='ALO_d Approx', marker='o')\n",
    "plt.legend()"
   ]
  },
  {
   "cell_type": "code",
   "execution_count": 30,
   "metadata": {},
   "outputs": [
    {
     "data": {
      "text/plain": [
       "<matplotlib.legend.Legend at 0x7fe3dde5bb10>"
      ]
     },
     "execution_count": 30,
     "metadata": {},
     "output_type": "execute_result"
    },
    {
     "data": {
      "image/png": "[encoded data removed]",
      "text/plain": [
       "<Figure size 432x288 with 1 Axes>"
      ]
     },
     "metadata": {
      "needs_background": "light"
     },
     "output_type": "display_data"
    }
   ],
   "source": [
    "def d_approx(alpha):\n",
    "    f1 = compute_alo_derivative(X, y, alpha + delta)\n",
    "    f0 = compute_alo_derivative(X, y, alpha)\n",
    "    return (f1 - f0) / delta\n",
    "alo_ds_approx = [d_approx(alpha) for alpha in alphas]\n",
    "alo_ds = [compute_alo_derivative2(X, y, alpha) for alpha in alphas]\n",
    "plt.plot(alphas, alo_ds, label='ALO_d2', marker='o')\n",
    "plt.plot(alphas, alo_ds_approx, label='ALO_d2 Approx', marker='o')\n",
    "plt.legend()"
   ]
  },
  {
   "cell_type": "code",
   "execution_count": null,
   "metadata": {},
   "outputs": [],
   "source": []
  }
 ],
 "metadata": {
  "kernelspec": {
   "display_name": "Python 3",
   "language": "python",
   "name": "python3"
  },
  "language_info": {
   "codemirror_mode": {
    "name": "ipython",
    "version": 3
   },
   "file_extension": ".py",
   "mimetype": "text/x-python",
   "name": "python",
   "nbconvert_exporter": "python",
   "pygments_lexer": "ipython3",
   "version": "3.7.5"
  }
 },
 "nbformat": 4,
 "nbformat_minor": 4
}
